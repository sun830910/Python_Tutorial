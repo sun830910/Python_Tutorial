{
 "cells": [
  {
   "cell_type": "markdown",
   "metadata": {},
   "source": [
    "# 函式-generator\n",
    "如果將100個物件存入list中, 那麼list就保存100個空間給所有物件; Generator不同, 它的每個物件在取用時才生成, 而且取用後就不再留存."
   ]
  },
  {
   "cell_type": "code",
   "execution_count": 3,
   "metadata": {},
   "outputs": [
    {
     "name": "stdout",
     "output_type": "stream",
     "text": [
      "0\n",
      "1\n",
      "4\n",
      "9\n",
      "16\n",
      "25\n",
      "36\n",
      "49\n",
      "64\n",
      "81\n",
      "----------\n",
      "----------\n"
     ]
    }
   ],
   "source": [
    "#----------------------------------------------\n",
    "# 用小括號建立一個generator, 其內容在取用時才生成\n",
    "#----------------------------------------------\n",
    "squares=(x*x for x in range(10))\n",
    "\n",
    "#----------------------------------------------\n",
    "# 迭代generator內容\n",
    "#----------------------------------------------\n",
    "for square in squares:\n",
    "    print(square)\n",
    "\n",
    "print('-'*10)\n",
    "\n",
    "#----------------------------------------------\n",
    "# generator內容只可被迭代1次\n",
    "#----------------------------------------------\n",
    "for square in squares:\n",
    "    print(square) \n",
    "\n",
    "print('-'*10)  "
   ]
  },
  {
   "cell_type": "code",
   "execution_count": 4,
   "metadata": {},
   "outputs": [
    {
     "name": "stdout",
     "output_type": "stream",
     "text": [
      "1\n",
      "4\n",
      "9\n",
      "16\n",
      "25\n",
      "36\n",
      "49\n",
      "64\n",
      "81\n",
      "100\n",
      "----------\n"
     ]
    }
   ],
   "source": [
    "#--------------------------------------------------\n",
    "# 在函式中使用yield回傳, 該函式就變成一個generator\n",
    "#--------------------------------------------------\n",
    "def squares():\n",
    "    cnt=1;\n",
    "    while cnt<=10:\n",
    "        yield cnt**2\n",
    "        cnt=cnt+1\n",
    "        \n",
    "#--------------------------------------------------\n",
    "#迭代generator內容\n",
    "#--------------------------------------------------\n",
    "for square in squares():\n",
    "    print(square)\n",
    "\n",
    "print('-'*10)"
   ]
  },
  {
   "cell_type": "code",
   "execution_count": null,
   "metadata": {},
   "outputs": [],
   "source": []
  }
 ],
 "metadata": {
  "kernelspec": {
   "display_name": "Python 3",
   "language": "python",
   "name": "python3"
  },
  "language_info": {
   "codemirror_mode": {
    "name": "ipython",
    "version": 3
   },
   "file_extension": ".py",
   "mimetype": "text/x-python",
   "name": "python",
   "nbconvert_exporter": "python",
   "pygments_lexer": "ipython3",
   "version": "3.7.4"
  }
 },
 "nbformat": 4,
 "nbformat_minor": 2
}
