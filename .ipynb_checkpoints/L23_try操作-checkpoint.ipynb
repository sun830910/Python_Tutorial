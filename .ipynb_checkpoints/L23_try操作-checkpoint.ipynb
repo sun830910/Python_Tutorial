{
 "cells": [
  {
   "cell_type": "markdown",
   "metadata": {},
   "source": [
    "# 敘述-try\n",
    "用try敘述捕捉不預期的例外."
   ]
  },
  {
   "cell_type": "code",
   "execution_count": 2,
   "metadata": {},
   "outputs": [
    {
     "name": "stdout",
     "output_type": "stream",
     "text": [
      "輸入成績\n",
      "輸入錯誤\n"
     ]
    }
   ],
   "source": [
    "try:\n",
    "    score=int(input('輸入成績'))\n",
    "\n",
    "    if score>=60:\n",
    "        print('及格')\n",
    "    else:\n",
    "        print('不及格')\n",
    "except ValueError:\n",
    "    print('輸入錯誤')"
   ]
  },
  {
   "cell_type": "code",
   "execution_count": 3,
   "metadata": {},
   "outputs": [
    {
     "name": "stdout",
     "output_type": "stream",
     "text": [
      "輸入成績0\n",
      "不及格\n"
     ]
    }
   ],
   "source": [
    "try:\n",
    "    score=int(input('輸入成績'))\n",
    "\n",
    "    if score>100 or score<0:\n",
    "        raise ValueError  #產生一個例外\n",
    "    else:\n",
    "        if score>=60:\n",
    "            print('及格')\n",
    "        else:\n",
    "            print('不及格')\n",
    "except ValueError:\n",
    "    print('輸入錯誤')        "
   ]
  },
  {
   "cell_type": "code",
   "execution_count": null,
   "metadata": {},
   "outputs": [],
   "source": []
  }
 ],
 "metadata": {
  "kernelspec": {
   "display_name": "Python 3",
   "language": "python",
   "name": "python3"
  },
  "language_info": {
   "codemirror_mode": {
    "name": "ipython",
    "version": 3
   },
   "file_extension": ".py",
   "mimetype": "text/x-python",
   "name": "python",
   "nbconvert_exporter": "python",
   "pygments_lexer": "ipython3",
   "version": "3.7.4"
  }
 },
 "nbformat": 4,
 "nbformat_minor": 2
}
