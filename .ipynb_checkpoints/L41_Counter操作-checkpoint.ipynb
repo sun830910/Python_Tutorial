{
 "cells": [
  {
   "cell_type": "markdown",
   "metadata": {},
   "source": [
    "# 資料型態(Data types)-Counter\n",
    "使用Counter物件統計某個內容出現的次數."
   ]
  },
  {
   "cell_type": "code",
   "execution_count": 1,
   "metadata": {},
   "outputs": [
    {
     "name": "stdout",
     "output_type": "stream",
     "text": [
      "Counter({'天氣': 3, '很': 3, '好': 2, '不': 2, '今天': 1, '看起來': 1, '明天': 1, '預': 1, '料': 1, '最近': 1, '的': 1, '穩定': 1})\n",
      "------------------------------------------------------------\n",
      "Counter({'天氣': 3, '很': 3, '好': 2, '不': 2, '今天': 1, '看起來': 1, '明天': 1, '預': 1, '料': 1, '最近': 1, '的': 1, '穩定': 1})\n",
      "------------------------------------------------------------\n",
      "[('天氣', 3), ('很', 3)]\n",
      "------------------------------------------------------------\n"
     ]
    }
   ],
   "source": [
    "#--------------------------------------------\n",
    "# 匯入collections模組中的Counter類別\n",
    "#--------------------------------------------\n",
    "from collections import Counter\n",
    "\n",
    "#--------------------------------------------\n",
    "# 建立一個Counter類別的實例\n",
    "#--------------------------------------------\n",
    "c = Counter()  \n",
    "\n",
    "#--------------------------------------------\n",
    "# 用map, list, tuple等iterable物件加入統計\n",
    "#--------------------------------------------\n",
    "c.update({'今天':1})\n",
    "c.update({'天氣':1, '看起來':1})\n",
    "\n",
    "c.update(['很', '好'])\n",
    "c.update(['明天'])\n",
    "c.update(['天氣', '很', '不', '好'])\n",
    "\n",
    "c.update(('預料'))\n",
    "c.update(('最近', '的', '天氣', '很', '不', '穩定'))\n",
    "\n",
    "print(c)\n",
    "print('-'*60)\n",
    "\n",
    "#--------------------------------------------\n",
    "# 排序\n",
    "#--------------------------------------------\n",
    "sorted(c.elements())\n",
    "print(c)\n",
    "print('-'*60)\n",
    "\n",
    "#--------------------------------------------\n",
    "# 列出數量最多的前n名(不必先排序)\n",
    "#--------------------------------------------\n",
    "print(c.most_common(2))\n",
    "print('-'*60) "
   ]
  },
  {
   "cell_type": "code",
   "execution_count": null,
   "metadata": {},
   "outputs": [],
   "source": []
  }
 ],
 "metadata": {
  "kernelspec": {
   "display_name": "Python 3",
   "language": "python",
   "name": "python3"
  },
  "language_info": {
   "codemirror_mode": {
    "name": "ipython",
    "version": 3
   },
   "file_extension": ".py",
   "mimetype": "text/x-python",
   "name": "python",
   "nbconvert_exporter": "python",
   "pygments_lexer": "ipython3",
   "version": "3.7.4"
  }
 },
 "nbformat": 4,
 "nbformat_minor": 2
}
