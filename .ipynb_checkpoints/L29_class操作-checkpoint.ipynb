{
 "cells": [
  {
   "cell_type": "markdown",
   "metadata": {},
   "source": [
    "# 類別(class)-基本使用\n",
    "用class敘述建立一個類別, 它可以生成多個這個類別的實例(instance). 在類別中的__init__()函式是它的建構元, 其內的self表示在記憶體中生成的那個實例."
   ]
  },
  {
   "cell_type": "code",
   "execution_count": 1,
   "metadata": {},
   "outputs": [],
   "source": [
    "#------------------------------------------------\n",
    "# 定義學生類別\n",
    "#------------------------------------------------\n",
    "class Student():\n",
    "    #-------------------    \n",
    "    # 建構元\n",
    "    #-------------------\n",
    "    def __init__(self, stuNo, stuName, deptNo):\n",
    "        self.stuNo=stuNo\n",
    "        self.stuName=stuName\n",
    "        self.deptNo=deptNo\n",
    "\n",
    "    #-------------------    \n",
    "    # 取出系名的方法\n",
    "    #-------------------        \n",
    "    def dept(self):\n",
    "        if self.deptNo=='6':\n",
    "            return '資管系'\n",
    "        else:\n",
    "            return '其他系'\n",
    "\n",
    "    #-------------------    \n",
    "    # 取出學制的方法\n",
    "    #-------------------            \n",
    "    def division(self):\n",
    "        if self.stuNo[0]=='N':\n",
    "            return '進修推廣部'\n",
    "        else:\n",
    "            return '日間部'            "
   ]
  },
  {
   "cell_type": "code",
   "execution_count": 2,
   "metadata": {},
   "outputs": [
    {
     "name": "stdout",
     "output_type": "stream",
     "text": [
      "學號:1056001  姓名:王小明  系別:資管系  學制:日間部\n"
     ]
    }
   ],
   "source": [
    "#--------------------------------------------\n",
    "# 生成實例s\n",
    "#--------------------------------------------\n",
    "s=Student('1056001', '王小明', '6')\n",
    "\n",
    "#--------------------------------------------\n",
    "# 呼叫s的方法\n",
    "#-------------------------------------------- \n",
    "print('學號:{}  姓名:{}  系別:{}  學制:{}'.format(s.stuNo, s.stuName, s.dept(), s.division()))"
   ]
  },
  {
   "cell_type": "code",
   "execution_count": 3,
   "metadata": {},
   "outputs": [],
   "source": [
    "#------------------------------------------------\n",
    "# 定義學生類別\n",
    "#------------------------------------------------\n",
    "class Student():\n",
    "    #-------------------    \n",
    "    # 建構元\n",
    "    #-------------------\n",
    "    def __init__(self, stuNo, stuName, deptNo):\n",
    "        self.stuNo=stuNo\n",
    "        self.stuName=stuName\n",
    "        self.deptNo=deptNo\n",
    "\n",
    "    #-------------------    \n",
    "    # 取出系名的方法\n",
    "    #-------------------        \n",
    "    def dept(self):\n",
    "        if self.deptNo=='6':\n",
    "            return '資管系'\n",
    "        else:\n",
    "            return '其他系'\n",
    "\n",
    "    #-------------------    \n",
    "    # 取出學制的方法\n",
    "    #-------------------            \n",
    "    def division(self):\n",
    "        if self.stuNo[0]=='N':\n",
    "            return '進修推廣部'\n",
    "        else:\n",
    "            return '日間部'            "
   ]
  },
  {
   "cell_type": "code",
   "execution_count": 5,
   "metadata": {},
   "outputs": [
    {
     "name": "stdout",
     "output_type": "stream",
     "text": [
      "學號:10556001  姓名:王小明  系別:資管系  學制:日間部\n",
      "學號:10556002  姓名:陳小華  系別:資管系  學制:日間部\n",
      "學號:10551003  姓名:李小強  系別:其他系  學制:日間部\n"
     ]
    }
   ],
   "source": [
    "#---------------------------\n",
    "# 將建成物件的原始資料\n",
    "#---------------------------\n",
    "data=[('10556001', '王小明', '6'), ('10556002', '陳小華', '6'), ('10551003', '李小強', '1')]\n",
    "\n",
    "#---------------------------\n",
    "# 將放置多個物件的list\n",
    "#---------------------------\n",
    "students=[]\n",
    "\n",
    "#-----------------------------------------\n",
    "# 生成Student類別的實例, 將它加入list中\n",
    "#-----------------------------------------\n",
    "for d in data:    \n",
    "    students.append(Student(d[0], d[1], d[2]))\n",
    "    \n",
    "#---------------------------\n",
    "# 逐一呼叫各個物件的方法\n",
    "#---------------------------    \n",
    "for s in students:    \n",
    "    print('學號:{}  姓名:{}  系別:{}  學制:{}'.format(s.stuNo, s.stuName, s.dept(), s.division()))   "
   ]
  },
  {
   "cell_type": "code",
   "execution_count": null,
   "metadata": {},
   "outputs": [],
   "source": []
  }
 ],
 "metadata": {
  "kernelspec": {
   "display_name": "Python 3",
   "language": "python",
   "name": "python3"
  },
  "language_info": {
   "codemirror_mode": {
    "name": "ipython",
    "version": 3
   },
   "file_extension": ".py",
   "mimetype": "text/x-python",
   "name": "python",
   "nbconvert_exporter": "python",
   "pygments_lexer": "ipython3",
   "version": "3.7.4"
  }
 },
 "nbformat": 4,
 "nbformat_minor": 2
}
