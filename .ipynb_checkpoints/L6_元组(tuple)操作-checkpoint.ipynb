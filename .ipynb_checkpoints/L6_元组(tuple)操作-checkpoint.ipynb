{
 "cells": [
  {
   "cell_type": "markdown",
   "metadata": {},
   "source": [
    "# Python內建序列型態-tuple\n",
    "在Python中宣告一個tuple, 可藉由一對小括號, 其中包括的多個由逗點隔開的元素組成. Tuple和list很像, 只不過tuple物件在設定初值後即不可再增減內容(immutable).\n",
    "## 1. tuple"
   ]
  },
  {
   "cell_type": "code",
   "execution_count": 1,
   "metadata": {},
   "outputs": [
    {
     "name": "stdout",
     "output_type": "stream",
     "text": [
      "2\n",
      "4\n",
      "5\n",
      "6\n",
      "2\n",
      "1\n",
      "4\n",
      "6\n",
      "8\n",
      "9\n",
      "------------------------------\n",
      "第 0 個元素: 2\n",
      "第 1 個元素: 4\n",
      "第 2 個元素: 5\n",
      "第 3 個元素: 6\n",
      "第 4 個元素: 2\n",
      "第 5 個元素: 1\n",
      "第 6 個元素: 4\n",
      "第 7 個元素: 6\n",
      "第 8 個元素: 8\n",
      "第 9 個元素: 9\n",
      "------------------------------\n"
     ]
    }
   ],
   "source": [
    "#-------------------------------\n",
    "# 建立一個tuple物件\n",
    "#-------------------------------\n",
    "a=(2, 4, 5, 6, 2, 1, 4, 6, 8, 9)\n",
    "\n",
    "\n",
    "#-------------------------------\n",
    "# 印出a中的所有元素\n",
    "#-------------------------------\n",
    "for i in a:\n",
    "    print(i)\n",
    "    \n",
    "print('-'*30)    \n",
    "\n",
    "\n",
    "#-------------------------------\n",
    "# 印出a中的index及元素\n",
    "#-------------------------------\n",
    "for j in range(len(a)):\n",
    "    print('第', j, '個元素:', a[j])\n",
    "    \n",
    "print('-'*30) "
   ]
  },
  {
   "cell_type": "markdown",
   "metadata": {},
   "source": [
    "## 2. 可以操作在序列型態的運算  \n",
    "完整資料建議查看Python文件  \n",
    "x in s                True if an item of s is equal to x, else False  \n",
    "x not in s            False if an item of s is equal to x, else True  \n",
    "s + t                 the concatenation of s and t  \n",
    "s * n or n * s        equivalent to adding s to itself n times  \n",
    "s[i]                  ith item of s, origin 0  \n",
    "s[i:j]                slice of s from i to j  \n",
    "s[i:j:k]              slice of s from i to j with step k  \n",
    "len(s)                length of s   \n",
    "min(s)                smallest item of s   \n",
    "max(s)                largest item of s   \n",
    "s.index(x[, i[, j]])  index of the first occurrence of x in s (at or after index i and before index j)  \n",
    "s.count(x)            total number of occurrences of x in s  "
   ]
  },
  {
   "cell_type": "code",
   "execution_count": 2,
   "metadata": {},
   "outputs": [
    {
     "name": "stdout",
     "output_type": "stream",
     "text": [
      "(2, 4, 5, 6, 2, 1, 4, 6, 8, 9, 2)\n",
      "------------------------------\n",
      "10是否存在: False\n",
      "------------------------------\n",
      "索引值 3, 4, 5 的元素: (6, 2, 1)\n",
      "------------------------------\n",
      "長度: 11\n",
      "------------------------------\n",
      "2的個數: 3\n",
      "------------------------------\n",
      "tuple中的最大值: 9\n",
      "------------------------------\n",
      "兩個tuple相加: (2, 4, 5, 6, 2, 1, 4, 6, 8, 9, 2, 2, 4, 5, 6, 2, 1, 4, 6, 8, 9, 2)\n",
      "------------------------------\n"
     ]
    }
   ],
   "source": [
    "#-------------------------------\n",
    "# 建立一個tuple物件\n",
    "#-------------------------------\n",
    "a=(2, 4, 5, 6, 2, 1, 4, 6, 8, 9, 2)\n",
    "print(a)\n",
    "print('-'*30)\n",
    "\n",
    "#-------------------------------\n",
    "# 是否存在tuple中\n",
    "#-------------------------------\n",
    "print('10是否存在:', 10 in a)\n",
    "print('-'*30)    \n",
    "\n",
    "#-------------------------------\n",
    "# 範圍\n",
    "#-------------------------------\n",
    "print('索引值 3, 4, 5 的元素:', a[3:6])\n",
    "print('-'*30)  \n",
    "\n",
    "#-------------------------------\n",
    "# 長度\n",
    "#-------------------------------\n",
    "print('長度:', len(a))\n",
    "print('-'*30) \n",
    "\n",
    "#-------------------------------\n",
    "# 計算個數\n",
    "#-------------------------------\n",
    "print('2的個數:', a.count(2))\n",
    "print('-'*30) \n",
    "\n",
    "\n",
    "print('tuple中的最大值:', max(a))\n",
    "print('-'*30) \n",
    "\n",
    "\n",
    "print('兩個tuple相加:', a+a)\n",
    "print('-'*30) "
   ]
  },
  {
   "cell_type": "markdown",
   "metadata": {},
   "source": [
    "## 3. 沒有mutable物件特有的方法\n",
    "Tuple是immutable物件, 即物件初值設定後內容即固定不變, 且沒有類似append(), remove()等可改變內容的方法."
   ]
  },
  {
   "cell_type": "code",
   "execution_count": null,
   "metadata": {},
   "outputs": [],
   "source": []
  }
 ],
 "metadata": {
  "kernelspec": {
   "display_name": "Python 3",
   "language": "python",
   "name": "python3"
  },
  "language_info": {
   "codemirror_mode": {
    "name": "ipython",
    "version": 3
   },
   "file_extension": ".py",
   "mimetype": "text/x-python",
   "name": "python",
   "nbconvert_exporter": "python",
   "pygments_lexer": "ipython3",
   "version": "3.7.4"
  }
 },
 "nbformat": 4,
 "nbformat_minor": 2
}
