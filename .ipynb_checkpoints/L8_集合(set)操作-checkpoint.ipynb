{
 "cells": [
  {
   "cell_type": "markdown",
   "metadata": {},
   "source": [
    "# Python內建集合型態-set\n",
    "在Python中宣告一個set(集合)物件, 由一對大括號, 其中包括的多個由逗點隔開的元素組成. 在set中的元素不會重覆, 而set物件內容可在設定後再增減(mutable).\n",
    "## 1. set(集合)"
   ]
  },
  {
   "cell_type": "code",
   "execution_count": 1,
   "metadata": {},
   "outputs": [
    {
     "name": "stdout",
     "output_type": "stream",
     "text": [
      "1\n",
      "2\n",
      "4\n",
      "5\n",
      "6\n",
      "8\n",
      "9\n",
      "------------------------------\n"
     ]
    }
   ],
   "source": [
    "# 建立一個set物件\n",
    "a={2, 4, 5, 6, 2, 1, 4, 6, 8, 9}\n",
    "\n",
    "\n",
    "# 印出a中的所有元素(沒有重覆內容)\n",
    "for i in a:\n",
    "    print(i)\n",
    "    \n",
    "print('-'*30)    "
   ]
  },
  {
   "cell_type": "markdown",
   "metadata": {},
   "source": [
    "## 2. 可以操作在集合型態的運算, 包括set(mutable)及frozenset(immutable)\n",
    "完整資料建議查看Python文件  \n",
    "len(s)  \n",
    "x in s  \n",
    "x not in s  \n",
    "isdisjoint(other)  \n",
    "issubset(other)  \n",
    "set <= other  \n",
    "set < other  \n",
    "issuperset(other)  \n",
    "set >= other  \n",
    "set > other  \n",
    "union(*others)  \n",
    "set | other | ...  \n",
    "intersection(*others)  \n",
    "set & other & ...  \n",
    "difference(*others)  \n",
    "set - other - ...  \n",
    "symmetric_difference(other)  \n",
    "set ^ other  \n",
    "copy()  "
   ]
  },
  {
   "cell_type": "code",
   "execution_count": 2,
   "metadata": {},
   "outputs": [
    {
     "name": "stdout",
     "output_type": "stream",
     "text": [
      "{1, 2, 4, 5, 6, 8, 9}\n",
      "------------------------------\n",
      "10是否存在: False\n",
      "------------------------------\n",
      "5是否存在: True\n",
      "------------------------------\n",
      "長度: 7\n",
      "------------------------------\n"
     ]
    }
   ],
   "source": [
    "# 建立一個set物件\n",
    "a={2, 4, 5, 6, 2, 1, 4, 6, 8, 9}\n",
    "\n",
    "print(a)\n",
    "print('-'*30)\n",
    "\n",
    "# 是否存在set中\n",
    "print('10是否存在:', 10 in a)\n",
    "print('-'*30) \n",
    "\n",
    "print('5是否存在:', 5 in a)\n",
    "print('-'*30) \n",
    "\n",
    "# 長度\n",
    "print('長度:', len(a))\n",
    "print('-'*30) "
   ]
  },
  {
   "cell_type": "code",
   "execution_count": 3,
   "metadata": {},
   "outputs": [
    {
     "name": "stdout",
     "output_type": "stream",
     "text": [
      "a集合: {1, 3, 5, 6, 7, 8, 9}\n",
      "b集合: {5, 6, 12, 18, 20}\n",
      "----------------------------------------\n",
      "a,b交集 {5, 6}\n",
      "a,b聯集 {1, 3, 5, 6, 7, 8, 9, 12, 18, 20}\n",
      "a,b差集 {1, 3, 7, 8, 9}\n",
      "----------------------------------------\n"
     ]
    }
   ],
   "source": [
    "# 建立2個set物件\n",
    "a={5, 6, 8, 9, 3, 1, 8, 7, 5};\n",
    "b={5, 6, 12, 18, 20}\n",
    "\n",
    "print('a集合:', a)\n",
    "print('b集合:',b)\n",
    "print('-'*40)\n",
    "\n",
    "print('a,b交集', a & b)\n",
    "print('a,b聯集', a | b)\n",
    "print('a,b差集', a - b)\n",
    "print('-'*40)"
   ]
  },
  {
   "cell_type": "markdown",
   "metadata": {},
   "source": [
    "## 3. 可以操作在set型別的mutable運算\n",
    "完整資料建議查看Python文件  \n",
    "update(*others)  \n",
    "set |= other | ...  \n",
    "Update the set, adding elements from all others.  \n",
    "  \n",
    "intersection_update(*others)  \n",
    "set &= other & ...  \n",
    "Update the set, keeping only elements found in it and all others.  \n",
    "  \n",
    "difference_update(*others)  \n",
    "set -= other | ...  \n",
    "Update the set, removing elements found in others.  \n",
    "  \n",
    "symmetric_difference_update(other)  \n",
    "set ^= other  \n",
    "Update the set, keeping only elements found in either set, but not in both.  \n",
    "  \n",
    "add(elem)  \n",
    "Add element elem to the set.  \n",
    "  \n",
    "remove(elem)  \n",
    "Remove element elem from the set. Raises KeyError if elem is not contained in the set.  \n",
    "  \n",
    "discard(elem)  \n",
    "Remove element elem from the set if it is present.  \n",
    "  \n",
    "pop()  \n",
    "Remove and return an arbitrary element from the set. Raises KeyError if the set is empty.  \n",
    "  \n",
    "clear()  \n",
    "Remove all elements from the set.  "
   ]
  },
  {
   "cell_type": "code",
   "execution_count": 4,
   "metadata": {},
   "outputs": [
    {
     "name": "stdout",
     "output_type": "stream",
     "text": [
      "{1, 3, 5, 6, 7, 8, 9}\n",
      "<class 'set'>\n",
      "------------------------------\n",
      "加入10\n",
      "{1, 3, 5, 6, 7, 8, 9, 10}\n",
      "------------------------------\n",
      "刪除5\n",
      "{1, 3, 6, 7, 8, 9, 10}\n",
      "------------------------------\n"
     ]
    }
   ],
   "source": [
    "# 建立1個set物件\n",
    "a={5, 6, 8, 9, 3, 1, 8, 7, 5};\n",
    "\n",
    "print(a)\n",
    "print(type(a))\n",
    "print('-'*30)\n",
    "\n",
    "# 增加1個元素\n",
    "a.add(10)\n",
    "print('加入10')\n",
    "print(a)\n",
    "print('-'*30)\n",
    "\n",
    "\n",
    "# 刪除set中符合元素\n",
    "a.remove(5)\n",
    "print('刪除5')\n",
    "print(a)\n",
    "print('-'*30)"
   ]
  },
  {
   "cell_type": "code",
   "execution_count": null,
   "metadata": {},
   "outputs": [],
   "source": []
  }
 ],
 "metadata": {
  "kernelspec": {
   "display_name": "Python 3",
   "language": "python",
   "name": "python3"
  },
  "language_info": {
   "codemirror_mode": {
    "name": "ipython",
    "version": 3
   },
   "file_extension": ".py",
   "mimetype": "text/x-python",
   "name": "python",
   "nbconvert_exporter": "python",
   "pygments_lexer": "ipython3",
   "version": "3.7.4"
  }
 },
 "nbformat": 4,
 "nbformat_minor": 2
}
