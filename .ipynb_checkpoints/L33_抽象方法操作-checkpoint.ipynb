{
 "cells": [
  {
   "cell_type": "markdown",
   "metadata": {},
   "source": [
    "# 類別(class)-抽象方法\n",
    "在父親的某個方法中產生一個例外(exception), 那個方法就有了抽象方法的\"概念\"; 如果兒子不改寫, 雖然兒子可以生成實例, 但那個方法在呼叫時會發生例外."
   ]
  },
  {
   "cell_type": "code",
   "execution_count": 1,
   "metadata": {},
   "outputs": [],
   "source": [
    "#------------------------------------------------\n",
    "# 定義學生類別\n",
    "#------------------------------------------------\n",
    "class Student(object):\n",
    "    #------------------------------       \n",
    "    # 建構元\n",
    "    # 為了重新定義gender的取存, \n",
    "    # 其實際存放名稱改為 _gender.\n",
    "    #------------------------------   \n",
    "    def __init__(self, stuNo, stuName, gender=None):\n",
    "        self.stuNo=stuNo\n",
    "        self.stuName=stuName\n",
    "        self._gender=gender   #這行指令會呼叫@gender.setter方法\n",
    "\n",
    "    #----------------------------------    \n",
    "    # 取用gender屬性的方法\n",
    "    # 直接用 [...=實例名稱.gender] 即可\n",
    "    #---------------------------------- \n",
    "    @property\n",
    "    def gender(self):\n",
    "        if self._gender=='M':\n",
    "            return '男'\n",
    "        elif self._gender=='F':\n",
    "            return '女'\n",
    "        else:\n",
    "            return None\n",
    "\n",
    "    #----------------------------------    \n",
    "    # 寫入gender屬性的方法\n",
    "    # 直接用 [實例名稱.gender=...] 即可\n",
    "    #---------------------------------- \n",
    "    @gender.setter\n",
    "    def gender(self, gender):\n",
    "        if gender=='M' or gender=='F':\n",
    "            self._gender=gender\n",
    "        else:\n",
    "            self._gender=None\n",
    "    \n",
    "\n",
    "    #-------------------    \n",
    "    # 取出學制的方法\n",
    "    #-------------------\n",
    "    def division(self):\n",
    "        if self.stuNo[0]=='N':\n",
    "            return '進修推廣部'\n",
    "        else:\n",
    "            return '日間部'\n",
    "\n",
    "    #---------------------------    \n",
    "    # 抽象方法(印出學生資訊)\n",
    "    #---------------------------           \n",
    "    def info(self):    \n",
    "        raise NotImplementedError(\"子類別必須完成此方法\")          \n",
    "  \n",
    "            \n",
    "#------------------------------------------------\n",
    "# 定義外國學生類別(繼承了學生類別)\n",
    "#------------------------------------------------\n",
    "class ForeignStudent(Student):\n",
    "    #-------------------------------------      \n",
    "    # 建構元\n",
    "    #------------------------------------- \n",
    "    def __init__(self, stuNo, stuName, gender, country):\n",
    "        super().__init__(stuNo, stuName, gender)\n",
    "        self.country=country\n",
    "        \n",
    "    #-------------------------------------    \n",
    "    # 印出學生資訊(完成父類別的抽象方法)\n",
    "    #-------------------------------------           \n",
    "    def info(self):    \n",
    "        return '外國學生'        \n",
    "        \n",
    "\n",
    "#------------------------------------------------\n",
    "# 定義體育保送學生類別(繼承了學生類別)\n",
    "#------------------------------------------------\n",
    "class AthleteStudent(Student):\n",
    "    #-------------------------------------      \n",
    "    # 建構元\n",
    "    #------------------------------------- \n",
    "    def __init__(self, stuNo, stuName, gender, sport):\n",
    "        super().__init__(stuNo, stuName, gender)\n",
    "        self.sport=sport\n",
    "        \n",
    "    #-------------------------------------    \n",
    "    # 印出學生資訊(完成父類別的抽象方法)\n",
    "    #-------------------------------------           \n",
    "    def info(self):    \n",
    "        return '體育保送學生'         "
   ]
  },
  {
   "cell_type": "code",
   "execution_count": 2,
   "metadata": {},
   "outputs": [
    {
     "name": "stdout",
     "output_type": "stream",
     "text": [
      "學號:1056001  姓名:Thomas Johnson  性別:男  國家:印尼  資訊:外國學生\n",
      "學號:1056002  姓名:陳大強  性別:男  體育項目:跳高  資訊:體育保送學生\n"
     ]
    }
   ],
   "source": [
    "#--------------------------------------------\n",
    "# 生成實例\n",
    "#--------------------------------------------\n",
    "s1=ForeignStudent('1056001', 'Thomas Johnson', 'M', '印尼')\n",
    "s2=AthleteStudent('1056002', '陳大強', 'M', '跳高')\n",
    "\n",
    "#--------------------------------------------\n",
    "# 呼叫實例的方法\n",
    "#-------------------------------------------- \n",
    "print('學號:{}  姓名:{}  性別:{}  國家:{}  資訊:{}'.format(s1.stuNo, s1.stuName, s1.gender, s1.country, s1.info()))\n",
    "print('學號:{}  姓名:{}  性別:{}  體育項目:{}  資訊:{}'.format(s2.stuNo, s2.stuName, s2.gender, s2.sport, s2.info()))"
   ]
  },
  {
   "cell_type": "code",
   "execution_count": null,
   "metadata": {},
   "outputs": [],
   "source": []
  }
 ],
 "metadata": {
  "kernelspec": {
   "display_name": "Python 3",
   "language": "python",
   "name": "python3"
  },
  "language_info": {
   "codemirror_mode": {
    "name": "ipython",
    "version": 3
   },
   "file_extension": ".py",
   "mimetype": "text/x-python",
   "name": "python",
   "nbconvert_exporter": "python",
   "pygments_lexer": "ipython3",
   "version": "3.7.4"
  }
 },
 "nbformat": 4,
 "nbformat_minor": 2
}
