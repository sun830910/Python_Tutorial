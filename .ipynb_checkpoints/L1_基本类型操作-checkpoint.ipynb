{
 "cells": [
  {
   "cell_type": "markdown",
   "metadata": {},
   "source": [
    "# Python内建型态(int, float, str, bool)\n",
    "内建型态(Built-in Types)可以在Python程式中直接使用, 不必预先import模组. 在 Python 中宣告变数后可直接指定一个特定值, 其变数型态自动设定为设定值的型态."
   ]
  },
  {
   "cell_type": "markdown",
   "metadata": {},
   "source": [
    "## 1. int (整数)"
   ]
  },
  {
   "cell_type": "code",
   "execution_count": 1,
   "metadata": {},
   "outputs": [
    {
     "name": "stdout",
     "output_type": "stream",
     "text": [
      "100\n",
      "型態: <class 'int'>\n",
      "------------------------------\n",
      "200\n",
      "型態: <class 'int'>\n",
      "------------------------------\n",
      "a和b是否同一物件? False\n"
     ]
    }
   ],
   "source": [
    "# 宣告一個整數\n",
    "a=100\n",
    "print(a)\n",
    "print('型態:', type(a))\n",
    "print('-'*30)\n",
    "\n",
    "# 宣告另一個整數\n",
    "b=200\n",
    "print(b)\n",
    "print('型態:', type(b))\n",
    "print('-'*30)\n",
    "\n",
    "print('a和b是否同一物件?', a is b)"
   ]
  },
  {
   "cell_type": "code",
   "execution_count": 2,
   "metadata": {},
   "outputs": [
    {
     "name": "stdout",
     "output_type": "stream",
     "text": [
      "100\n",
      "型態: <class 'int'>\n",
      "------------------------------\n",
      "a和b是否同一物件? True\n"
     ]
    }
   ],
   "source": [
    "c = 100\n",
    "\n",
    "print(c)\n",
    "print('型態:', type(c))\n",
    "print('-'*30)\n",
    "\n",
    "print('a和b是否同一物件?', c is a)"
   ]
  },
  {
   "cell_type": "code",
   "execution_count": 3,
   "metadata": {},
   "outputs": [
    {
     "name": "stdout",
     "output_type": "stream",
     "text": [
      "1234567890123\n",
      "型態: <class 'int'>\n",
      "物件大小: 32\n",
      "------------------------------\n"
     ]
    }
   ],
   "source": [
    "import sys\n",
    "\n",
    "# 宣告一個整數\n",
    "a=1234567890123\n",
    "print(a)\n",
    "print('型態:', type(a))\n",
    "print('物件大小:', sys.getsizeof(a))\n",
    "print('-'*30)"
   ]
  },
  {
   "cell_type": "code",
   "execution_count": 4,
   "metadata": {},
   "outputs": [
    {
     "name": "stdout",
     "output_type": "stream",
     "text": [
      "123456789012345678901234567\n",
      "型態: <class 'int'>\n",
      "物件大小: 36\n",
      "------------------------------\n"
     ]
    }
   ],
   "source": [
    "# 宣告一個整數\n",
    "b=123456789012345678901234567\n",
    "print(b)\n",
    "print('型態:', type(b))\n",
    "print('物件大小:', sys.getsizeof(b))\n",
    "print('-'*30)"
   ]
  },
  {
   "cell_type": "markdown",
   "metadata": {},
   "source": [
    "## 2. float(浮点数)"
   ]
  },
  {
   "cell_type": "code",
   "execution_count": 5,
   "metadata": {},
   "outputs": [
    {
     "name": "stdout",
     "output_type": "stream",
     "text": [
      "100.1234\n",
      "型態: <class 'float'>\n",
      "物件大小 24\n",
      "------------------------------\n",
      "1.2345678901234568e+24\n",
      "型態: <class 'float'>\n",
      "物件大小 24\n",
      "------------------------------\n"
     ]
    }
   ],
   "source": [
    "import sys\n",
    "\n",
    "# 宣告一個浮點數\n",
    "a=100.1234\n",
    "print(a)\n",
    "print('型態:', type(a))\n",
    "print('物件大小', sys.getsizeof(a))\n",
    "print('-'*30)\n",
    "\n",
    "# 宣告另一個浮點數\n",
    "b=1234567890123456789012345.1234567890123456789012345\n",
    "print(b)\n",
    "print('型態:', type(b))\n",
    "print('物件大小', sys.getsizeof(b))\n",
    "print('-'*30)"
   ]
  },
  {
   "cell_type": "code",
   "execution_count": 6,
   "metadata": {},
   "outputs": [
    {
     "name": "stdout",
     "output_type": "stream",
     "text": [
      "100.5678\n",
      "型態: <class 'float'>\n",
      "物件大小 24\n",
      "------------------------------\n",
      "100\n",
      "型態: <class 'int'>\n",
      "物件大小 28\n",
      "------------------------------\n"
     ]
    }
   ],
   "source": [
    "import sys\n",
    "\n",
    "# 宣告一個浮點數\n",
    "a=100.5678\n",
    "print(a)\n",
    "print('型態:', type(a))\n",
    "print('物件大小', sys.getsizeof(a))\n",
    "print('-'*30)\n",
    "\n",
    "# 產生一個整數\n",
    "b=int(a)\n",
    "print(b)\n",
    "print('型態:', type(b))\n",
    "print('物件大小', sys.getsizeof(b))\n",
    "print('-'*30)"
   ]
  },
  {
   "cell_type": "markdown",
   "metadata": {},
   "source": [
    "## 3. str(字符串) \n",
    "在 Python 宣告字串可以使用 單引號 或 雙引號, 以下是一個例子:"
   ]
  },
  {
   "cell_type": "code",
   "execution_count": 7,
   "metadata": {},
   "outputs": [
    {
     "name": "stdout",
     "output_type": "stream",
     "text": [
      "Hello\n",
      "<class 'str'>\n",
      "------------------------------\n",
      "你好\n",
      "<class 'str'>\n",
      "------------------------------\n",
      "Hello你好\n",
      "------------------------------\n"
     ]
    }
   ],
   "source": [
    "# 宣告一個字串\n",
    "a='Hello'\n",
    "print(a)\n",
    "print(type(a))\n",
    "print('-'*30)\n",
    "\n",
    "\n",
    "# 宣告另一個字串\n",
    "b=\"你好\"\n",
    "print(b)\n",
    "print(type(b))\n",
    "print('-'*30)\n",
    "\n",
    "\n",
    "# 字串相加\n",
    "c=a+b\n",
    "print(c)\n",
    "print('-'*30)"
   ]
  },
  {
   "cell_type": "code",
   "execution_count": 8,
   "metadata": {},
   "outputs": [
    {
     "name": "stdout",
     "output_type": "stream",
     "text": [
      "Hello\n",
      "<class 'str'>\n",
      "------------------------------\n",
      "H\n",
      "e\n",
      "l\n",
      "l\n",
      "o\n",
      "------------------------------\n",
      "ell\n",
      "------------------------------\n"
     ]
    }
   ],
   "source": [
    "# 宣告一個字串\n",
    "a='Hello'\n",
    "print(a)\n",
    "print(type(a))\n",
    "print('-'*30)\n",
    "\n",
    "\n",
    "# 用迭代取出每個長度為1的子字串\n",
    "for c in a:\n",
    "    print(c)\n",
    "\n",
    "print('-'*30)\n",
    "\n",
    "\n",
    "# 切割字串\n",
    "print(a[1:4])\n",
    "print('-'*30)"
   ]
  },
  {
   "cell_type": "markdown",
   "metadata": {},
   "source": [
    "## 4. bool(布尔类型)\n",
    "在 Python 宣告布林值可設定為 True 或 False, 或是一個邏輯運算結果, 以下是一個例子:"
   ]
  },
  {
   "cell_type": "code",
   "execution_count": 9,
   "metadata": {},
   "outputs": [
    {
     "name": "stdout",
     "output_type": "stream",
     "text": [
      "True\n",
      "<class 'bool'>\n",
      "------------------------------\n",
      "False\n",
      "<class 'bool'>\n",
      "------------------------------\n",
      "True\n",
      "------------------------------\n"
     ]
    }
   ],
   "source": [
    "# 宣告一個布林\n",
    "a = True\n",
    "print(a)\n",
    "print(type(a))\n",
    "print('-'*30)\n",
    "\n",
    "# 宣告另一個布林\n",
    "b = False\n",
    "print(b)\n",
    "print(type(b))\n",
    "print('-'*30)\n",
    "\n",
    "# 一個邏輯運算結果\n",
    "c = 10>20 or 20<=30\n",
    "print(c)\n",
    "print('-'*30)"
   ]
  }
 ],
 "metadata": {
  "kernelspec": {
   "display_name": "Python 3",
   "language": "python",
   "name": "python3"
  },
  "language_info": {
   "codemirror_mode": {
    "name": "ipython",
    "version": 3
   },
   "file_extension": ".py",
   "mimetype": "text/x-python",
   "name": "python",
   "nbconvert_exporter": "python",
   "pygments_lexer": "ipython3",
   "version": "3.7.4"
  }
 },
 "nbformat": 4,
 "nbformat_minor": 2
}
