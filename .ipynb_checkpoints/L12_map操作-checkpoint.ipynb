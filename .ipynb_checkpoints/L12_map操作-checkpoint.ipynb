{
 "cells": [
  {
   "cell_type": "markdown",
   "metadata": {},
   "source": [
    "# Python的內建函式-map\n",
    "## 1. lambda可建立匿名函式物件, 但有時也會將該函式物件指定某個名稱, 該名稱就變成函式名稱."
   ]
  },
  {
   "cell_type": "code",
   "execution_count": 1,
   "metadata": {},
   "outputs": [
    {
     "name": "stdout",
     "output_type": "stream",
     "text": [
      "平方: 15625\n",
      "------------------------------\n",
      "折扣: 3125.0\n",
      "------------------------------\n",
      "直角三角型斜邊: 5.0\n",
      "------------------------------\n"
     ]
    }
   ],
   "source": [
    "import math\n",
    "\n",
    "# 建立一個匿名函式後, 將它指定給fn\n",
    "fn=lambda x: x*x\n",
    "\n",
    "print('平方:', fn(125))\n",
    "print('-'*30)\n",
    "\n",
    "\n",
    "# 建立一個匿名函式後, 將它指定給fn2\n",
    "fn2=lambda x: x*0.125 if x>10000 else x*0.08\n",
    "\n",
    "print('折扣:', fn2(25000))\n",
    "print('-'*30)\n",
    "\n",
    "\n",
    "# 建立一個匿名函式後, 將它指定給fn3\n",
    "fn3=lambda x, y: math.sqrt(x**2 + y**2)\n",
    "\n",
    "print('直角三角型斜邊:', fn3(3, 4))\n",
    "print('-'*30)"
   ]
  },
  {
   "cell_type": "markdown",
   "metadata": {},
   "source": [
    "## 2. map()將一個可迭代物件的每個元素映照到一個函式或型態, 得到一個map物件."
   ]
  },
  {
   "cell_type": "code",
   "execution_count": 2,
   "metadata": {},
   "outputs": [
    {
     "name": "stdout",
     "output_type": "stream",
     "text": [
      "[1, 16, 9, 4, 25, 49]\n",
      "------------------------------\n",
      "1\n",
      "16\n",
      "9\n",
      "4\n",
      "25\n",
      "49\n",
      "------------------------------\n"
     ]
    }
   ],
   "source": [
    "# 建立一個函式\n",
    "fn=lambda x: x*x\n",
    "\n",
    "# 建立一個list\n",
    "data=[1, 4, 3, 2, 5, 7]\n",
    "\n",
    "\n",
    "# 進行list元素的映照(map), 並印出結果\n",
    "print([c for c in map(fn, data)])\n",
    "print('-'*30)\n",
    "\n",
    "\n",
    "# 進行list元素的映照, 並印出結果\n",
    "for c in map(fn, data):\n",
    "    print(c)\n",
    "\n",
    "print('-'*30)"
   ]
  },
  {
   "cell_type": "code",
   "execution_count": 3,
   "metadata": {},
   "outputs": [
    {
     "name": "stdout",
     "output_type": "stream",
     "text": [
      "['1', '4', '3', '2', '5', '7']\n",
      "------------------------------\n"
     ]
    }
   ],
   "source": [
    "# 建立一個list\n",
    "data=[1, 4, 3, 2, 5, 7]\n",
    "\n",
    "# 進行list元素的映照(將int轉成str)\n",
    "print([c for c in map(str, data)])\n",
    "print('-'*30)"
   ]
  },
  {
   "cell_type": "code",
   "execution_count": 4,
   "metadata": {},
   "outputs": [
    {
     "name": "stdout",
     "output_type": "stream",
     "text": [
      "[1, 16, 9, 4, 25, 49]\n",
      "------------------------------\n",
      "------------------------------\n"
     ]
    }
   ],
   "source": [
    "# 建立一個函式\n",
    "fn=lambda x: x*x\n",
    "\n",
    "# 建立一個list\n",
    "data=[1, 4, 3, 2, 5, 7]\n",
    "\n",
    "# 建立一個map\n",
    "myMap=map(fn, data)\n",
    "\n",
    "\n",
    "# 進行list元素的映照(map), 並印出結果\n",
    "print([c for c in myMap])\n",
    "print('-'*30)\n",
    "\n",
    "\n",
    "# 進行list元素的映照, 並印出結果(沒有資料可取出)\n",
    "for c in myMap:\n",
    "    print(c)\n",
    "\n",
    "print('-'*30)"
   ]
  },
  {
   "cell_type": "code",
   "execution_count": null,
   "metadata": {},
   "outputs": [],
   "source": []
  }
 ],
 "metadata": {
  "kernelspec": {
   "display_name": "Python 3",
   "language": "python",
   "name": "python3"
  },
  "language_info": {
   "codemirror_mode": {
    "name": "ipython",
    "version": 3
   },
   "file_extension": ".py",
   "mimetype": "text/x-python",
   "name": "python",
   "nbconvert_exporter": "python",
   "pygments_lexer": "ipython3",
   "version": "3.7.4"
  }
 },
 "nbformat": 4,
 "nbformat_minor": 2
}
