{
 "cells": [
  {
   "cell_type": "markdown",
   "metadata": {},
   "source": [
    "# Python的內建函式-format\n",
    "format()讓輸出格式變得簡單."
   ]
  },
  {
   "cell_type": "code",
   "execution_count": 1,
   "metadata": {},
   "outputs": [
    {
     "name": "stdout",
     "output_type": "stream",
     "text": [
      "3.141592653589793\n",
      "圓周率=3.1416\n",
      "------------------------------\n",
      "金額=1,250,000\n",
      "------------------------------\n",
      "二進位:11001\n",
      "八進位:31\n",
      "十進位:25\n",
      "十六進位:19\n",
      "十六進位:0x19\n",
      "十六進位:0X19\n",
      "------------------------------\n",
      "姓名:王小明   性別:男   年齡:18\n",
      "姓名:王小明   性別:男   年齡:18\n",
      "姓名:王小明   性別:男   性別:男\n",
      "姓名:王小明   性別:男   年齡:18\n",
      "------------------------------\n"
     ]
    }
   ],
   "source": [
    "import math\n",
    "\n",
    "# 小數位數\n",
    "print(math.pi)\n",
    "print('圓周率={:.4f}'.format(math.pi))\n",
    "print('-'*30)\n",
    "\n",
    "# 金額表示\n",
    "print('金額={:,}'.format(1250000))\n",
    "print('-'*30)\n",
    "\n",
    "# 進位表示\n",
    "a=25\n",
    "print('二進位:{:b}'.format(a))\n",
    "print('八進位:{:o}'.format(a))\n",
    "print('十進位:{:d}'.format(a))\n",
    "print('十六進位:{:x}'.format(a))\n",
    "print('十六進位:{:#x}'.format(a))\n",
    "print('十六進位:{:#X}'.format(a))\n",
    "print('-'*30)\n",
    "\n",
    "# 字串表示\n",
    "print('姓名:{}   性別:{}   年齡:{}'.format('王小明', '男', '18'))\n",
    "print('姓名:{0}   性別:{1}   年齡:{2}'.format('王小明', '男', '18'))\n",
    "print('姓名:{0}   性別:{1}   性別:{1}'.format('王小明', '男'))\n",
    "print('姓名:{name}   性別:{gender}   年齡:{age}'.format(name='王小明', gender='男', age='18'))\n",
    "print('-'*30)               \n"
   ]
  },
  {
   "cell_type": "code",
   "execution_count": null,
   "metadata": {},
   "outputs": [],
   "source": []
  }
 ],
 "metadata": {
  "kernelspec": {
   "display_name": "Python 3",
   "language": "python",
   "name": "python3"
  },
  "language_info": {
   "codemirror_mode": {
    "name": "ipython",
    "version": 3
   },
   "file_extension": ".py",
   "mimetype": "text/x-python",
   "name": "python",
   "nbconvert_exporter": "python",
   "pygments_lexer": "ipython3",
   "version": "3.7.4"
  }
 },
 "nbformat": 4,
 "nbformat_minor": 2
}
