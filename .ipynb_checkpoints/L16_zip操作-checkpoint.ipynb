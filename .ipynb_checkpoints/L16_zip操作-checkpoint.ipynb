{
 "cells": [
  {
   "cell_type": "markdown",
   "metadata": {},
   "source": [
    "# Python的內建函式-zip\n",
    "zip()將多個可迭代物件合併成一個可迭代物件."
   ]
  },
  {
   "cell_type": "code",
   "execution_count": 1,
   "metadata": {},
   "outputs": [
    {
     "name": "stdout",
     "output_type": "stream",
     "text": [
      "資料1\n",
      "['A1', 'A2', 'A3', 'A4', 'A5', 'A6', 'A7']\n",
      "------------------------------\n",
      "資料2\n",
      "['會資系', '財金系', '財稅系', '商務系', '企管系', '資管系', '應外系']\n",
      "------------------------------\n",
      "合併資料\n",
      "[('A1', '會資系'), ('A2', '財金系'), ('A3', '財稅系'), ('A4', '商務系'), ('A5', '企管系'), ('A6', '資管系'), ('A7', '應外系')]\n",
      "------------------------------\n"
     ]
    }
   ],
   "source": [
    "# 建立2個list物件\n",
    "no=['A1', 'A2', 'A3', 'A4', 'A5', 'A6', 'A7']\n",
    "name=['會資系', '財金系', '財稅系', '商務系', '企管系', '資管系', '應外系']\n",
    "\n",
    "\n",
    "# 將二個list合併成一個list\n",
    "data=list(zip(no, name))\n",
    "\n",
    "print('資料1')\n",
    "print(no)\n",
    "print('-'*30)\n",
    "\n",
    "print('資料2')\n",
    "print(name)\n",
    "print('-'*30)\n",
    "\n",
    "print('合併資料')\n",
    "print(data)\n",
    "print('-'*30)"
   ]
  },
  {
   "cell_type": "code",
   "execution_count": null,
   "metadata": {},
   "outputs": [],
   "source": []
  }
 ],
 "metadata": {
  "kernelspec": {
   "display_name": "Python 3",
   "language": "python",
   "name": "python3"
  },
  "language_info": {
   "codemirror_mode": {
    "name": "ipython",
    "version": 3
   },
   "file_extension": ".py",
   "mimetype": "text/x-python",
   "name": "python",
   "nbconvert_exporter": "python",
   "pygments_lexer": "ipython3",
   "version": "3.7.4"
  }
 },
 "nbformat": 4,
 "nbformat_minor": 2
}
