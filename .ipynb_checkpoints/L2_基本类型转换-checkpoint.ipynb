{
 "cells": [
  {
   "cell_type": "markdown",
   "metadata": {},
   "source": [
    "# Python內建型態轉換(int, float, str)\n",
    "內建型態int, float及str之間可以使用內建函式(Built-in Functions)相互轉換.  \n",
    "1.數字間轉換"
   ]
  },
  {
   "cell_type": "code",
   "execution_count": 1,
   "metadata": {},
   "outputs": [
    {
     "name": "stdout",
     "output_type": "stream",
     "text": [
      "100\n",
      "<class 'int'>\n",
      "------------------------------\n",
      "100.0\n",
      "<class 'float'>\n",
      "------------------------------\n",
      "123.56\n",
      "<class 'float'>\n",
      "------------------------------\n",
      "小數捨去: 123\n",
      "<class 'int'>\n",
      "------------------------------\n",
      "四捨五入: 124\n",
      "<class 'int'>\n",
      "------------------------------\n"
     ]
    }
   ],
   "source": [
    "# 宣告一個整數\n",
    "a=100\n",
    "print(a)\n",
    "print(type(a))\n",
    "print('-'*30)\n",
    "\n",
    "\n",
    "# 將整數轉為浮點數\n",
    "# float()是內建函式\n",
    "b=float(a) \n",
    "print(b)\n",
    "print(type(b))\n",
    "print('-'*30)\n",
    "\n",
    "\n",
    "# 宣告一個浮點數\n",
    "c=123.56\n",
    "print(c)\n",
    "print(type(c))\n",
    "print('-'*30)\n",
    "\n",
    "\n",
    "# 將浮點數轉為整數\n",
    "# 小數捨去, int()是內建函式\n",
    "e=int(c)\n",
    "print('小數捨去:', e)\n",
    "print(type(e))\n",
    "print('-'*30)\n",
    "\n",
    "\n",
    "# 將浮點數轉為整數\n",
    "# 四捨五入, round()是內建函式\n",
    "f=round(c)\n",
    "print('四捨五入:', f)\n",
    "print(type(f))\n",
    "print('-'*30)"
   ]
  },
  {
   "cell_type": "markdown",
   "metadata": {},
   "source": [
    "## 2. 數字及文字間轉換"
   ]
  },
  {
   "cell_type": "code",
   "execution_count": 2,
   "metadata": {},
   "outputs": [
    {
     "name": "stdout",
     "output_type": "stream",
     "text": [
      "100\n",
      "<class 'int'>\n",
      "------------------------------\n",
      "100\n",
      "<class 'str'>\n",
      "------------------------------\n",
      "123.4567\n",
      "<class 'str'>\n",
      "------------------------------\n",
      "123\n",
      "<class 'int'>\n",
      "------------------------------\n",
      "轉換錯誤\n",
      "------------------------------\n"
     ]
    }
   ],
   "source": [
    "# 宣告一個整數\n",
    "a=100\n",
    "print(a)\n",
    "print(type(a))\n",
    "print('-'*30)\n",
    "\n",
    "\n",
    "# 將整數轉為字串\n",
    "# str()是內建函式\n",
    "b=str(a)\n",
    "print(b)\n",
    "print(type(b))\n",
    "print('-'*30)\n",
    "\n",
    "\n",
    "# 將浮點數轉為字串\n",
    "c=123.4567\n",
    "d=str(c)\n",
    "print(d)\n",
    "print(type(d))\n",
    "print('-'*30)\n",
    "\n",
    "\n",
    "# 將字串轉為整數\n",
    "e = '123'\n",
    "f=int(e)\n",
    "print(f)\n",
    "print(type(f))\n",
    "print('-'*30)\n",
    "\n",
    "\n",
    "# 將字串轉為整數(錯誤處理)\n",
    "e = 'abc'\n",
    "try:\n",
    "    f=int(e)\n",
    "    print(f)\n",
    "    print(type(f))\n",
    "    print('-'*30)\n",
    "except ValueError:\n",
    "    print('轉換錯誤')\n",
    "    print('-'*30)    "
   ]
  }
 ],
 "metadata": {
  "kernelspec": {
   "display_name": "Python 3",
   "language": "python",
   "name": "python3"
  },
  "language_info": {
   "codemirror_mode": {
    "name": "ipython",
    "version": 3
   },
   "file_extension": ".py",
   "mimetype": "text/x-python",
   "name": "python",
   "nbconvert_exporter": "python",
   "pygments_lexer": "ipython3",
   "version": "3.7.4"
  }
 },
 "nbformat": 4,
 "nbformat_minor": 2
}
