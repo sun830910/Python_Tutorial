{
 "cells": [
  {
   "cell_type": "markdown",
   "metadata": {},
   "source": [
    "# Python內建序列型態-list\n",
    "在Python中宣告一個list(清單), 可藉由一對中括號, 其中包括多個由逗點隔開的元素組成. list物件的內容可在設定初值後再增減(mutable).\n",
    "## 1. list(清單)"
   ]
  },
  {
   "cell_type": "code",
   "execution_count": 1,
   "metadata": {},
   "outputs": [
    {
     "name": "stdout",
     "output_type": "stream",
     "text": [
      "2\n",
      "4\n",
      "5\n",
      "6\n",
      "2\n",
      "1\n",
      "4\n",
      "6\n",
      "8\n",
      "9\n",
      "------------------------------\n",
      "第 0 個元素: 2\n",
      "第 1 個元素: 4\n",
      "第 2 個元素: 5\n",
      "第 3 個元素: 6\n",
      "第 4 個元素: 2\n",
      "第 5 個元素: 1\n",
      "第 6 個元素: 4\n",
      "第 7 個元素: 6\n",
      "第 8 個元素: 8\n",
      "第 9 個元素: 9\n",
      "------------------------------\n"
     ]
    }
   ],
   "source": [
    "# 建立一個list物件\n",
    "a=[2, 4, 5, 6, 2, 1, 4, 6, 8, 9]\n",
    "\n",
    "\n",
    "# 印出a中的所有元素\n",
    "for i in a:\n",
    "    print(i)\n",
    "    \n",
    "print('-'*30)    \n",
    "\n",
    "\n",
    "# 印出a中的index及元素(range也是Python的序列型態)\n",
    "for j in range(len(a)):\n",
    "    print('第', j, '個元素:', a[j])\n",
    "    \n",
    "print('-'*30)   "
   ]
  },
  {
   "cell_type": "markdown",
   "metadata": {},
   "source": [
    "## 2. 可以操作在序列型態的運算\n",
    "完整資料建議查看Python文件\n",
    "x in s                True if an item of s is equal to x, else False  \n",
    "x not in s            False if an item of s is equal to x, else True  \n",
    "s + t                 the concatenation of s and t  \n",
    "s * n or n * s        equivalent to adding s to itself n times  \n",
    "s[i]                  ith item of s, origin 0  \n",
    "s[i:j]                slice of s from i to j  \n",
    "s[i:j:k]              slice of s from i to j with step k  \n",
    "len(s)                length of s   \n",
    "min(s)                smallest item of s   \n",
    "max(s)                largest item of s   \n",
    "s.index(x[, i[, j]])  index of the first occurrence of x in s (at or after index i and before index j)  \n",
    "s.count(x)            total number of occurrences of x in s  "
   ]
  },
  {
   "cell_type": "code",
   "execution_count": 2,
   "metadata": {},
   "outputs": [
    {
     "name": "stdout",
     "output_type": "stream",
     "text": [
      "[2, 4, 5, 6, 2, 1, 4, 6, 8, 9, 2]\n",
      "------------------------------\n",
      "10是否存在: False\n",
      "------------------------------\n",
      "索引值 3, 4, 5 的元素: [6, 2, 1]\n",
      "------------------------------\n",
      "長度: 11\n",
      "------------------------------\n",
      "2的個數: 3\n",
      "------------------------------\n"
     ]
    }
   ],
   "source": [
    "# 建立一個list物件\n",
    "a=[2, 4, 5, 6, 2, 1, 4, 6, 8, 9, 2]\n",
    "print(a)\n",
    "print('-'*30)\n",
    "\n",
    "# 是否存在list中\n",
    "print('10是否存在:', 10 in a)\n",
    "print('-'*30)    \n",
    "\n",
    "\n",
    "# 範圍\n",
    "print('索引值 3, 4, 5 的元素:', a[3:6])\n",
    "print('-'*30)  \n",
    "\n",
    "\n",
    "# 長度\n",
    "print('長度:', len(a))\n",
    "print('-'*30) \n",
    "\n",
    "\n",
    "# 計算個數\n",
    "print('2的個數:', a.count(2))\n",
    "print('-'*30) "
   ]
  },
  {
   "cell_type": "markdown",
   "metadata": {},
   "source": [
    "## 3. 可以操作在Mutable序列型別的運算\n",
    "完整資料建議查看Python文件  \n",
    "s[i] = x            item i of s is replaced by x   \n",
    "s[i:j] = t          slice of s from i to j is replaced by the contents of the iterable t   \n",
    "del s[i:j]          same as s[i:j] = []   \n",
    "s[i:j:k] = t        the elements of s[i:j:k] are replaced by those of t  \n",
    "del s[i:j:k]        removes the elements of s[i:j:k] from the list   \n",
    "s.append(x)         appends x to the end of the sequence (same as s[len(s):len(s)] = [x])   \n",
    "s.clear()           removes all items from s (same as del s[:])  \n",
    "s.copy()            creates a shallow copy of s (same as s[:])  \n",
    "s.extend(t)         extends s with the contents of t (for the most part the same as s[len(s):len(s)] = t)  \n",
    "s += t              extends s with the contents of t (for the most part the same as s[len(s):len(s)] = t)   \n",
    "s *= n              updates s with its contents repeated n times  \n",
    "s.insert(i, x)      inserts x into s at the index given by i (same as s[i:i] = [x])   \n",
    "s.pop([i])          retrieves the item at i and also removes it from s  \n",
    "s.remove(x)         remove the first item from s where s[i] == x  \n",
    "s.reverse()         reverses the items of s in place  "
   ]
  },
  {
   "cell_type": "code",
   "execution_count": 3,
   "metadata": {},
   "outputs": [
    {
     "name": "stdout",
     "output_type": "stream",
     "text": [
      "[2, 4, 5, 6, 2, 1, 4, 6, 8, 9]\n",
      "<class 'list'>\n",
      "----------------------------------------\n",
      "[2, 4, 5, 6, 2, 1, 4, 6, 8, 9, 10]\n",
      "----------------------------------------\n",
      "[2, 100, 4, 5, 6, 2, 1, 4, 6, 8, 9, 10]\n",
      "----------------------------------------\n",
      "[2, 100, 4, 6, 2, 1, 4, 6, 8, 9, 10]\n",
      "----------------------------------------\n"
     ]
    }
   ],
   "source": [
    "# 宣告一個list物件\n",
    "a=[2, 4, 5, 6, 2, 1, 4, 6, 8, 9]\n",
    "\n",
    "print(a)\n",
    "print(type(a))\n",
    "print('-'*40)\n",
    "\n",
    "# 增加1個元素(在最後面)\n",
    "a.append(10)\n",
    "print(a)\n",
    "print('-'*40)\n",
    "\n",
    "# 增加1個元素(在指定位置)\n",
    "a.insert(1, 100)\n",
    "print(a)\n",
    "print('-'*40)\n",
    "\n",
    "# 刪除list中的第1個符合元素\n",
    "a.remove(5)\n",
    "print(a)\n",
    "print('-'*40)"
   ]
  },
  {
   "cell_type": "code",
   "execution_count": null,
   "metadata": {},
   "outputs": [],
   "source": []
  }
 ],
 "metadata": {
  "kernelspec": {
   "display_name": "Python 3",
   "language": "python",
   "name": "python3"
  },
  "language_info": {
   "codemirror_mode": {
    "name": "ipython",
    "version": 3
   },
   "file_extension": ".py",
   "mimetype": "text/x-python",
   "name": "python",
   "nbconvert_exporter": "python",
   "pygments_lexer": "ipython3",
   "version": "3.7.4"
  }
 },
 "nbformat": 4,
 "nbformat_minor": 2
}
