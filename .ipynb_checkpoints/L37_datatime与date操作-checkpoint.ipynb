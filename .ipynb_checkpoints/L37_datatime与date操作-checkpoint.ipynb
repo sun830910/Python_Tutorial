{
 "cells": [
  {
   "cell_type": "markdown",
   "metadata": {},
   "source": [
    "# 資料型態(Data types)-datetime及date\n",
    "在datetime模組(module)中, 有幾個與日期時間相關的類別(class), 包括date, time, datetime, timedelta, tzinfo及timezone."
   ]
  },
  {
   "cell_type": "code",
   "execution_count": 1,
   "metadata": {},
   "outputs": [
    {
     "name": "stdout",
     "output_type": "stream",
     "text": [
      "現在的日期時間\n",
      "<class 'datetime.datetime'>\n",
      "2020-08-15 14:20:33.477962\n",
      "------------------------------\n",
      "今天的日期\n",
      "<class 'datetime.date'>\n",
      "2020-08-15\n",
      "------------------------------\n"
     ]
    }
   ],
   "source": [
    "#--------------------------------------------------\n",
    "# 從datetime模組中, 匯入datetime, date類別\n",
    "#--------------------------------------------------\n",
    "from datetime import datetime, date\n",
    "\n",
    "#--------------------------------------------------\n",
    "# 取得現在的日期時間\n",
    "#--------------------------------------------------\n",
    "now = datetime.now()\n",
    "print('現在的日期時間')\n",
    "print(type(now))\n",
    "print(now)\n",
    "print('-'*30)\n",
    "\n",
    "#--------------------------------------------------\n",
    "# 取得今天的日期\n",
    "#--------------------------------------------------\n",
    "today = date.today()\n",
    "print('今天的日期')\n",
    "print(type(today))\n",
    "print(today)\n",
    "print('-'*30)"
   ]
  },
  {
   "cell_type": "markdown",
   "metadata": {},
   "source": [
    "用strftime()方法, 將datetime及date轉成字串."
   ]
  },
  {
   "cell_type": "code",
   "execution_count": 2,
   "metadata": {},
   "outputs": [
    {
     "name": "stdout",
     "output_type": "stream",
     "text": [
      "現在的日期時間--用datetime()\n",
      "<class 'str'>\n",
      "2020-08-15 14:21:47\n",
      "------------------------------\n",
      "現在的日期\n",
      "<class 'str'>\n",
      "2020-08-15\n",
      "------------------------------\n",
      "現在的時間\n",
      "<class 'str'>\n",
      "14:21:47\n",
      "==============================\n",
      "今天的日期--用today()\n",
      "<class 'str'>\n",
      "2020/08/15\n",
      "------------------------------\n"
     ]
    }
   ],
   "source": [
    "#--------------------------------------------------\n",
    "# 從datetime模組中, 匯入datetime, date類別\n",
    "#--------------------------------------------------\n",
    "from datetime import datetime, date\n",
    "\n",
    "#--------------------------------------------------\n",
    "# 取得現在的日期時間(轉成字串)\n",
    "#--------------------------------------------------\n",
    "now = datetime.now().strftime(\"%Y-%m-%d %H:%M:%S\")\n",
    "print('現在的日期時間--用datetime()')\n",
    "print(type(now))\n",
    "print(now)\n",
    "print('-'*30)\n",
    "\n",
    "print('現在的日期')\n",
    "today = datetime.now().strftime(\"%Y-%m-%d\")\n",
    "print(type(today))\n",
    "print(today)\n",
    "print('-'*30)\n",
    "\n",
    "print('現在的時間')\n",
    "time = datetime.now().strftime(\"%H:%M:%S\")\n",
    "print(type(time))\n",
    "print(time)\n",
    "print('='*30)\n",
    "\n",
    "#--------------------------------------------------\n",
    "# 取得今天的日期(轉成字串)\n",
    "#--------------------------------------------------\n",
    "today = date.today().strftime(\"%Y/%m/%d\")\n",
    "print('今天的日期--用today()')\n",
    "print(type(today))\n",
    "print(today)\n",
    "print('-'*30)"
   ]
  },
  {
   "cell_type": "markdown",
   "metadata": {},
   "source": [
    "用timedelta計算日期."
   ]
  },
  {
   "cell_type": "code",
   "execution_count": 3,
   "metadata": {},
   "outputs": [
    {
     "name": "stdout",
     "output_type": "stream",
     "text": [
      "今天的日期\n",
      "2020-08-15\n",
      "------------------------------\n",
      "明天的日期\n",
      "2020-08-16\n",
      "------------------------------\n"
     ]
    }
   ],
   "source": [
    "#--------------------------------------------------\n",
    "# 從datetime模組中, 匯入date, timedelta類別\n",
    "#--------------------------------------------------\n",
    "from datetime import date, timedelta\n",
    "\n",
    "#--------------------------------------------------\n",
    "# 取得今天的日期\n",
    "#--------------------------------------------------\n",
    "today = date.today()\n",
    "print('今天的日期')\n",
    "print(today)\n",
    "print('-'*30)\n",
    "\n",
    "\n",
    "#--------------------------------------------------\n",
    "# 用datetime模組中的timedelta取得明天的日期\n",
    "#--------------------------------------------------\n",
    "tomorrow = today + timedelta(days=1)\n",
    "print('明天的日期')\n",
    "print(tomorrow)\n",
    "print('-'*30)"
   ]
  },
  {
   "cell_type": "markdown",
   "metadata": {},
   "source": [
    "用timetuple()方法, 將日期時間轉成tuple型態."
   ]
  },
  {
   "cell_type": "code",
   "execution_count": 4,
   "metadata": {},
   "outputs": [
    {
     "name": "stdout",
     "output_type": "stream",
     "text": [
      "現在的日期時間\n",
      "2020-08-15 14:22:20.150796\n",
      "------------------------------\n",
      "現在的tuple\n",
      "time.struct_time(tm_year=2020, tm_mon=8, tm_mday=15, tm_hour=14, tm_min=22, tm_sec=20, tm_wday=5, tm_yday=228, tm_isdst=-1)\n",
      "------------------------------\n",
      "取得tuple中的年份\n",
      "2020\n",
      "2020\n",
      "------------------------------\n"
     ]
    }
   ],
   "source": [
    "#-----------------------------------------------------------\n",
    "# 從datetime模組中, 匯入datetime類別\n",
    "#-----------------------------------------------------------\n",
    "from datetime import datetime\n",
    "\n",
    "#-----------------------------------------------------------\n",
    "# 取得現在的日期時間\n",
    "#-----------------------------------------------------------\n",
    "now = datetime.now()\n",
    "print('現在的日期時間')\n",
    "print(now)\n",
    "print('-'*30)\n",
    "\n",
    "\n",
    "#-----------------------------------------------------------\n",
    "# 用datetime類別中的timetuple()方法, 將日期時間轉成tuple\n",
    "#-----------------------------------------------------------\n",
    "timetuple = now.timetuple()\n",
    "print('現在的tuple')\n",
    "print(timetuple)\n",
    "print('-'*30)\n",
    "\n",
    "\n",
    "print('取得tuple中的年份')\n",
    "print(timetuple.tm_year)\n",
    "print(timetuple[0])\n",
    "print('-'*30)"
   ]
  },
  {
   "cell_type": "markdown",
   "metadata": {},
   "source": [
    "用date類別的建構元建立一個date實例."
   ]
  },
  {
   "cell_type": "code",
   "execution_count": 5,
   "metadata": {},
   "outputs": [
    {
     "name": "stdout",
     "output_type": "stream",
     "text": [
      "today的內容\n",
      "2017-11-19\n",
      "------------------------------\n"
     ]
    }
   ],
   "source": [
    "#-----------------------------------------------------------\n",
    "# 從datetime模組中, 匯入datetime類別\n",
    "#-----------------------------------------------------------\n",
    "from datetime import date\n",
    "\n",
    "#-----------------------------------------------------------\n",
    "# 以今天的日期建立一個date實例\n",
    "#-----------------------------------------------------------\n",
    "today = date(2017, 11, 19)\n",
    "print('today的內容')\n",
    "print(today)\n",
    "print('-'*30)"
   ]
  },
  {
   "cell_type": "code",
   "execution_count": null,
   "metadata": {},
   "outputs": [],
   "source": []
  }
 ],
 "metadata": {
  "kernelspec": {
   "display_name": "Python 3",
   "language": "python",
   "name": "python3"
  },
  "language_info": {
   "codemirror_mode": {
    "name": "ipython",
    "version": 3
   },
   "file_extension": ".py",
   "mimetype": "text/x-python",
   "name": "python",
   "nbconvert_exporter": "python",
   "pygments_lexer": "ipython3",
   "version": "3.7.4"
  }
 },
 "nbformat": 4,
 "nbformat_minor": 2
}
