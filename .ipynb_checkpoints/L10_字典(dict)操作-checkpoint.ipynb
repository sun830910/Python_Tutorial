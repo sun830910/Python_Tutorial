{
 "cells": [
  {
   "cell_type": "markdown",
   "metadata": {},
   "source": [
    "# Python內建映對(map)型態-dict\n",
    "在Python中宣告一個dict(字典)變數, 可由一對大括號, 其中包括多組成對資料, 每組資料由冒號隔開組成. dict是mutable物件, 內容可在設定後再增減.\n",
    "## 1. dict(字典)"
   ]
  },
  {
   "cell_type": "code",
   "execution_count": 1,
   "metadata": {},
   "outputs": [
    {
     "name": "stdout",
     "output_type": "stream",
     "text": [
      "{'1': '會資系', '2': '財金系', '3': '財稅系', '4': '商務系', '5': '企管系', '6': '資管系', '7': '應外系'}\n",
      "<class 'dict'>\n",
      "------------------------------\n",
      "鍵: 1 => 值: 會資系\n",
      "鍵: 2 => 值: 財金系\n",
      "鍵: 3 => 值: 財稅系\n",
      "鍵: 4 => 值: 商務系\n",
      "鍵: 5 => 值: 企管系\n",
      "鍵: 6 => 值: 資管系\n",
      "鍵: 7 => 值: 應外系\n",
      "------------------------------\n",
      "鍵: 1 => 值: 會資系\n",
      "鍵: 2 => 值: 財金系\n",
      "鍵: 3 => 值: 財稅系\n",
      "鍵: 4 => 值: 商務系\n",
      "鍵: 5 => 值: 企管系\n",
      "鍵: 6 => 值: 資管系\n",
      "鍵: 7 => 值: 應外系\n",
      "------------------------------\n"
     ]
    }
   ],
   "source": [
    "# 建立一個dict物件\n",
    "departments={'1':'會資系', '2':'財金系', '3':'財稅系', '4':'商務系', '5':'企管系', '6':'資管系', '7':'應外系'}\n",
    "\n",
    "print(departments)\n",
    "print(type(departments))\n",
    "print('-'*30)\n",
    "\n",
    "# 印出dict內的所有鍵及值(方法1)\n",
    "for key in departments:\n",
    "    print('鍵:', key, '=> 值:', departments[key])\n",
    "    \n",
    "print('-'*30) \n",
    "\n",
    "\n",
    "# 印出dict內的所有鍵及值(方法2)\n",
    "for key, value in departments.items():\n",
    "    print('鍵:', key, '=> 值:', value)\n",
    "    \n",
    "print('-'*30)  "
   ]
  },
  {
   "cell_type": "code",
   "execution_count": 2,
   "metadata": {},
   "outputs": [
    {
     "name": "stdout",
     "output_type": "stream",
     "text": [
      "{'1': '會資系', '2': '財金系', '3': '財稅系', '4': '商務系', '5': '企管系', '6': '資管系', '7': '應外系'}\n",
      "<class 'dict'>\n",
      "------------------------------\n",
      "會資系\n",
      "企管系\n",
      "------------------------------\n",
      "沒有對應資料\n",
      "------------------------------\n"
     ]
    }
   ],
   "source": [
    "# 建立一個dict物件\n",
    "departments={'1':'會資系', '2':'財金系', '3':'財稅系', '4':'商務系', '5':'企管系', '6':'資管系', '7':'應外系'}\n",
    "\n",
    "print(departments)\n",
    "print(type(departments))\n",
    "print('-'*30)\n",
    "\n",
    "\n",
    "# 以鍵值取出資料\n",
    "print(departments['1'])\n",
    "print(departments['5'])   \n",
    "print('-'*30)   \n",
    "\n",
    "\n",
    "# 以鍵值取出資料(錯誤處理)\n",
    "try:\n",
    "    print(departments['8'])   \n",
    "except KeyError:    \n",
    "    print('沒有對應資料')\n",
    "    \n",
    "print('-'*30) "
   ]
  },
  {
   "cell_type": "markdown",
   "metadata": {},
   "source": [
    "## 2. 可以操作在映對型態的運算\n",
    "完整資料建議查看Python文件  \n",
    "len(d)  \n",
    "d[key]  \n",
    "d[key] = value  \n",
    "del d[key]  \n",
    "key in d  \n",
    "key not in d  \n",
    "iter(d)  \n",
    "clear()  \n",
    "copy()  \n",
    "classmethod fromkeys(seq[, value])  \n",
    "fromkeys()  \n",
    "get(key[, default])  \n",
    "items()  \n",
    "keys()  \n",
    "pop(key[, default])  \n",
    "popitem()  \n",
    "setdefault(key[, default])  \n",
    "update([other])  \n",
    "values()  "
   ]
  },
  {
   "cell_type": "code",
   "execution_count": 3,
   "metadata": {},
   "outputs": [
    {
     "name": "stdout",
     "output_type": "stream",
     "text": [
      "{'1': '會資系', '2': '財金系', '3': '財稅系', '4': '商務系', '5': '企管系', '6': '資管系', '7': '應外系'}\n",
      "<class 'dict'>\n",
      "------------------------------\n",
      "鍵: 1 => 值: 會資系\n",
      "鍵: 2 => 值: 財金系\n",
      "鍵: 3 => 值: 財稅系\n",
      "鍵: 4 => 值: 商務系\n",
      "鍵: 5 => 值: 企管系\n",
      "鍵: 6 => 值: 資管系\n",
      "鍵: 7 => 值: 應外系\n",
      "鍵: A => 值: 商設系\n",
      "鍵: B => 值: 商創系\n",
      "鍵: C => 值: 數媒系\n",
      "------------------------------\n"
     ]
    }
   ],
   "source": [
    "# 建立一個dict物件\n",
    "departments={'1':'會資系', '2':'財金系', '3':'財稅系', '4':'商務系', '5':'企管系', '6':'資管系', '7':'應外系'}\n",
    "\n",
    "print(departments)\n",
    "print(type(departments))\n",
    "print('-'*30)\n",
    "\n",
    "\n",
    "# 加入其他內容\n",
    "departments['A']='商設系'\n",
    "departments['B']='商創系'   \n",
    "departments['C']='數媒系'\n",
    "\n",
    "\n",
    "# 印出dict內的所有鍵及值\n",
    "for key in departments:\n",
    "    print('鍵:', key, '=> 值:', departments[key])\n",
    "    \n",
    "print('-'*30)  \n"
   ]
  },
  {
   "cell_type": "code",
   "execution_count": 4,
   "metadata": {},
   "outputs": [
    {
     "name": "stdout",
     "output_type": "stream",
     "text": [
      "{'1': '會資系', '2': '財金系', '3': '財稅系', '4': '商務系', '5': '企管系', '6': '資管系', '7': '應外系'}\n",
      "<class 'dict'>\n",
      "------------------------------\n",
      "是否有鍵值1 ? True\n",
      "是否有鍵值D ? False\n",
      "------------------------------\n",
      "{'2': '財金系', '3': '財稅系', '4': '商務系', '5': '企管系', '6': '資管系', '7': '應外系'}\n",
      "------------------------------\n"
     ]
    }
   ],
   "source": [
    "# 建立一個dict物件\n",
    "departments={'1':'會資系', '2':'財金系', '3':'財稅系', '4':'商務系', '5':'企管系', '6':'資管系', '7':'應外系'}\n",
    "\n",
    "print(departments)\n",
    "print(type(departments))\n",
    "print('-'*30)\n",
    "\n",
    "\n",
    "# 判斷是否有鍵值\n",
    "print('是否有鍵值1 ?', '1' in departments)\n",
    "print('是否有鍵值D ?', 'D' in departments)\n",
    "print('-'*30)   \n",
    "\n",
    "\n",
    "# 刪除內容\n",
    "del departments['1']\n",
    "\n",
    "print(departments)\n",
    "print('-'*30)"
   ]
  },
  {
   "cell_type": "code",
   "execution_count": null,
   "metadata": {},
   "outputs": [],
   "source": []
  }
 ],
 "metadata": {
  "kernelspec": {
   "display_name": "Python 3",
   "language": "python",
   "name": "python3"
  },
  "language_info": {
   "codemirror_mode": {
    "name": "ipython",
    "version": 3
   },
   "file_extension": ".py",
   "mimetype": "text/x-python",
   "name": "python",
   "nbconvert_exporter": "python",
   "pygments_lexer": "ipython3",
   "version": "3.7.4"
  }
 },
 "nbformat": 4,
 "nbformat_minor": 2
}
