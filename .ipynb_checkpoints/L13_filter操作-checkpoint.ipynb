{
 "cells": [
  {
   "cell_type": "markdown",
   "metadata": {},
   "source": [
    "# Python的內建函式-filter\n",
    "## 1. 範例使用了lambda. 如有需要, 請參考03-2的lambda說明.\n",
    "## 2. filter()將一個可迭代物件的每個元素進行條件比對, 得到一個filter物件, 內容為通過過濾條件的元素."
   ]
  },
  {
   "cell_type": "code",
   "execution_count": 1,
   "metadata": {},
   "outputs": [
    {
     "name": "stdout",
     "output_type": "stream",
     "text": [
      "[81, 95, 72, 67]\n",
      "------------------------------\n",
      "81\n",
      "95\n",
      "72\n",
      "67\n",
      "------------------------------\n"
     ]
    }
   ],
   "source": [
    "# 建立一個函式\n",
    "fn=lambda x: x>=60\n",
    "\n",
    "# 建立一個list\n",
    "data=[81, 43, 95, 72, 35, 67]\n",
    "\n",
    "\n",
    "# 進行list元素的過濾(filter), 並印出結果\n",
    "print([c for c in filter(fn, data)])\n",
    "print('-'*30)\n",
    "\n",
    "\n",
    "# 進行list元素的過濾, 並印出結果\n",
    "for c in filter(fn, data):\n",
    "    print(c)\n",
    "\n",
    "print('-'*30)"
   ]
  },
  {
   "cell_type": "code",
   "execution_count": 2,
   "metadata": {},
   "outputs": [
    {
     "name": "stdout",
     "output_type": "stream",
     "text": [
      "[81, 95, 72, 67]\n",
      "------------------------------\n",
      "------------------------------\n"
     ]
    }
   ],
   "source": [
    "# 建立一個函式\n",
    "fn=lambda x: x>=60\n",
    "\n",
    "# 建立一個list\n",
    "data=[81, 43, 95, 72, 35, 67]\n",
    "\n",
    "# 建立一個filter\n",
    "myFilter=filter(fn, data)\n",
    "\n",
    "\n",
    "# 進行list元素的過濾(filter), 並印出結果\n",
    "print([c for c in myFilter])\n",
    "print('-'*30)\n",
    "\n",
    "\n",
    "# 進行list元素的過濾, 並印出結果(沒有資料)\n",
    "for c in myFilter:\n",
    "    print(c)\n",
    "\n",
    "print('-'*30)"
   ]
  },
  {
   "cell_type": "code",
   "execution_count": null,
   "metadata": {},
   "outputs": [],
   "source": []
  }
 ],
 "metadata": {
  "kernelspec": {
   "display_name": "Python 3",
   "language": "python",
   "name": "python3"
  },
  "language_info": {
   "codemirror_mode": {
    "name": "ipython",
    "version": 3
   },
   "file_extension": ".py",
   "mimetype": "text/x-python",
   "name": "python",
   "nbconvert_exporter": "python",
   "pygments_lexer": "ipython3",
   "version": "3.7.4"
  }
 },
 "nbformat": 4,
 "nbformat_minor": 2
}
