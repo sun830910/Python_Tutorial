{
 "cells": [
  {
   "cell_type": "markdown",
   "metadata": {},
   "source": [
    "# Python的內建函式-enumerate\n",
    "enumerate()將一個可迭代物件的元素依序加入序號, 符合某些輸出需求.\n"
   ]
  },
  {
   "cell_type": "code",
   "execution_count": 1,
   "metadata": {},
   "outputs": [
    {
     "name": "stdout",
     "output_type": "stream",
     "text": [
      "['會資系', '財金系', '財稅系', '商務系', '企管系', '資管系', '應外系']\n",
      "<class 'list'>\n",
      "------------------------------\n",
      "<enumerate object at 0x107eb8e10>\n",
      "------------------------------\n",
      "序號: 1 => 名稱: 會資系\n",
      "序號: 2 => 名稱: 財金系\n",
      "序號: 3 => 名稱: 財稅系\n",
      "序號: 4 => 名稱: 商務系\n",
      "序號: 5 => 名稱: 企管系\n",
      "序號: 6 => 名稱: 資管系\n",
      "序號: 7 => 名稱: 應外系\n",
      "------------------------------\n"
     ]
    }
   ],
   "source": [
    "# 建立一個list物件\n",
    "data=['會資系', '財金系', '財稅系', '商務系', '企管系', '資管系', '應外系']\n",
    "\n",
    "print(data)\n",
    "print(type(data))\n",
    "print('-'*30)\n",
    "\n",
    "# 建立一個enumerate物件\n",
    "print(enumerate(data))\n",
    "print('-'*30) \n",
    "\n",
    "# 建立一個enumerate物件, 序號從1開始\n",
    "for seq, name in enumerate(data, start=1):\n",
    "    print('序號:', seq, '=> 名稱:', name)\n",
    "    \n",
    "print('-'*30) "
   ]
  },
  {
   "cell_type": "code",
   "execution_count": 2,
   "metadata": {},
   "outputs": [
    {
     "name": "stdout",
     "output_type": "stream",
     "text": [
      "['會資系', '財金系', '財稅系', '商務系', '企管系', '資管系', '應外系']\n",
      "<class 'list'>\n",
      "------------------------------\n",
      "序號: 0 => 名稱: 會資系\n",
      "序號: 1 => 名稱: 財金系\n",
      "序號: 2 => 名稱: 財稅系\n",
      "序號: 3 => 名稱: 商務系\n",
      "序號: 4 => 名稱: 企管系\n",
      "序號: 5 => 名稱: 資管系\n",
      "序號: 6 => 名稱: 應外系\n",
      "------------------------------\n",
      "------------------------------\n"
     ]
    }
   ],
   "source": [
    "# 建立一個list物件\n",
    "data=['會資系', '財金系', '財稅系', '商務系', '企管系', '資管系', '應外系']\n",
    "\n",
    "print(data)\n",
    "print(type(data))\n",
    "print('-'*30)\n",
    "\n",
    "# 建立一個enumerate物件\n",
    "en=enumerate(data)\n",
    "\n",
    "# 取出enumerate內容\n",
    "for seq, name in en:\n",
    "    print('序號:', seq, '=> 名稱:', name)\n",
    "    \n",
    "print('-'*30) \n",
    "\n",
    "\n",
    "# 取出enumerate內容(已無資料可取出)\n",
    "for seq, name in en:\n",
    "    print('序號:', seq, '=> 名稱:', name)\n",
    "    \n",
    "print('-'*30) "
   ]
  },
  {
   "cell_type": "code",
   "execution_count": null,
   "metadata": {},
   "outputs": [],
   "source": []
  }
 ],
 "metadata": {
  "kernelspec": {
   "display_name": "Python 3",
   "language": "python",
   "name": "python3"
  },
  "language_info": {
   "codemirror_mode": {
    "name": "ipython",
    "version": 3
   },
   "file_extension": ".py",
   "mimetype": "text/x-python",
   "name": "python",
   "nbconvert_exporter": "python",
   "pygments_lexer": "ipython3",
   "version": "3.7.4"
  }
 },
 "nbformat": 4,
 "nbformat_minor": 2
}
