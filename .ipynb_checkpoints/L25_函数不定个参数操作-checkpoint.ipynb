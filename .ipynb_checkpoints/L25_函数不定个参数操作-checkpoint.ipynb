{
 "cells": [
  {
   "cell_type": "markdown",
   "metadata": {},
   "source": [
    "# 不定個數參數\n",
    "有設定初值的傳入參數可以在呼叫時省去傳值, 其參數值即為預定值."
   ]
  },
  {
   "cell_type": "code",
   "execution_count": 1,
   "metadata": {},
   "outputs": [
    {
     "name": "stdout",
     "output_type": "stream",
     "text": [
      "銷售25000元, 職級A, 傭金3750元\n",
      "銷售36000元, 職級B, 傭金4320元\n",
      "銷售12000元, 職級B, 傭金1080元\n",
      "銷售9500元, 職級A, 傭金760元\n",
      "銷售45000元, 職級A, 傭金6750元\n",
      "------------------------------\n",
      "銷售25000元, 傭金3750元\n",
      "銷售36000元, 傭金5400元\n",
      "------------------------------\n"
     ]
    }
   ],
   "source": [
    "#-------------------------------------------\n",
    "# 一個計算傭金的函式\n",
    "# 傳入:銷售金額, 職級(可不傳, 預設為'A')\n",
    "# 回傳:傭金 \n",
    "#-------------------------------------------\n",
    "def commission(total, rank='A'):\n",
    "    rate=0.0\n",
    "    \n",
    "    if rank=='A':\n",
    "        if total>20000:\n",
    "            rate=0.15\n",
    "        elif total>10000:\n",
    "            rate=0.1\n",
    "        else:\n",
    "            rate=0.08\n",
    "    else:\n",
    "        if total>20000:\n",
    "            rate=0.12\n",
    "        elif total>10000:\n",
    "            rate=0.09\n",
    "        else:\n",
    "            rate=0.05        \n",
    "        \n",
    "    return int(total*rate)\n",
    "#-------------------------------------------\n",
    "\n",
    "\n",
    "\n",
    "#-------------------------------------------\n",
    "# 主程式\n",
    "#-------------------------------------------\n",
    "tot=[(25000, 'A'), (36000, 'B'), (12000, 'B'), (9500, 'A'), (45000, 'A')]\n",
    "\n",
    "for t, r in tot:\n",
    "    print('銷售{}元, 職級{}, 傭金{}元'.format(t, r,  commission(t, r))) \n",
    "\n",
    "print('-'*30)\n",
    "\n",
    "\n",
    "tot=[25000, 36000]\n",
    "\n",
    "for t in tot:\n",
    "    print('銷售{}元, 傭金{}元'.format(t, commission(t))) \n",
    "\n",
    "print('-'*30)\n",
    "#-------------------------------------------"
   ]
  },
  {
   "cell_type": "code",
   "execution_count": 2,
   "metadata": {},
   "outputs": [
    {
     "name": "stdout",
     "output_type": "stream",
     "text": [
      "平均=71.67\n",
      "平均=87.67\n",
      "平均=53.67\n",
      "平均=93.67\n",
      "------------------------------\n",
      "平均=71.00\n",
      "平均=86.20\n",
      "平均=55.40\n",
      "平均=94.00\n",
      "------------------------------\n"
     ]
    }
   ],
   "source": [
    "#----------------------------------------------------------\n",
    "# 一個計算傭金的函式\n",
    "# 傳入:國文, 英文, 數學, 國文加權(預設值1), 英文加權(預設值1), 數學加權(預設值1)\n",
    "# 回傳:平均分數 \n",
    "#----------------------------------------------------------\n",
    "def average(chi, eng, mat, wchi=1.0, weng=1.0, wmat=1.0):\n",
    "    return (chi*wchi+eng*weng+mat*wmat)/(wchi+weng+wmat)\n",
    "#----------------------------------------------------------\n",
    "\n",
    "\n",
    "\n",
    "#-------------------------------------------\n",
    "# 主程式\n",
    "#-------------------------------------------\n",
    "scores=[(60, 80, 75), (78, 90, 95), (66, 50, 45), (100, 89, 92)]\n",
    "\n",
    "for chi, eng, mat in scores:\n",
    "    print('平均={:.2f}'.format(average(chi, eng, mat))) \n",
    "\n",
    "print('-'*30)\n",
    "\n",
    "for chi, eng, mat in scores:\n",
    "    print('平均={:.2f}'.format(average(chi, eng, mat, 2.0, 2.0, 1.0))) \n",
    "\n",
    "print('-'*30)\n",
    "#-------------------------------------------"
   ]
  },
  {
   "cell_type": "code",
   "execution_count": null,
   "metadata": {},
   "outputs": [],
   "source": []
  }
 ],
 "metadata": {
  "kernelspec": {
   "display_name": "Python 3",
   "language": "python",
   "name": "python3"
  },
  "language_info": {
   "codemirror_mode": {
    "name": "ipython",
    "version": 3
   },
   "file_extension": ".py",
   "mimetype": "text/x-python",
   "name": "python",
   "nbconvert_exporter": "python",
   "pygments_lexer": "ipython3",
   "version": "3.7.4"
  }
 },
 "nbformat": 4,
 "nbformat_minor": 2
}
