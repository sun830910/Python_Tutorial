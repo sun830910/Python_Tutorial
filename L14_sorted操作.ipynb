{
 "cells": [
  {
   "cell_type": "markdown",
   "metadata": {},
   "source": [
    "# 03-4 Python的內建函式-sorted\n",
    "sorted()將一個可迭代物件的元素進行比對, 依大小順序重新排列."
   ]
  },
  {
   "cell_type": "code",
   "execution_count": 1,
   "metadata": {},
   "outputs": [
    {
     "name": "stdout",
     "output_type": "stream",
     "text": [
      "[45, 50, 66, 68, 75, 75, 82, 90, 93, 100]\n",
      "---------------------------------------------\n",
      "[100, 93, 90, 82, 75, 75, 68, 66, 50, 45]\n",
      "---------------------------------------------\n"
     ]
    }
   ],
   "source": [
    "# 建立一個list\n",
    "data=[75, 68, 90, 45, 66, 82, 100, 93, 75, 50]\n",
    "\n",
    "# 排序(由小到大)\n",
    "sortedData=sorted(data)\n",
    "\n",
    "print(sortedData)\n",
    "print('-'*45)\n",
    "\n",
    "\n",
    "# 排序(由大到小)\n",
    "sortedData=sorted(data, reverse=True)\n",
    "\n",
    "print(sortedData)\n",
    "print('-'*45)"
   ]
  },
  {
   "cell_type": "code",
   "execution_count": 2,
   "metadata": {},
   "outputs": [
    {
     "name": "stdout",
     "output_type": "stream",
     "text": [
      "[45, 50, 66, 68, 75, 75, 82, 90, 93, 100]\n",
      "---------------------------------------------\n",
      "[100, 93, 90, 82, 75, 75, 68, 66, 50, 45]\n",
      "---------------------------------------------\n"
     ]
    }
   ],
   "source": [
    "# 建立一個list\n",
    "data=[75, 68, 90, 45, 66, 82, 100, 93, 75, 50]\n",
    "\n",
    "# 排序(由小到大)\n",
    "data.sort()\n",
    "\n",
    "print(data)\n",
    "print('-'*45)\n",
    "\n",
    "\n",
    "# 排序(由大到小)\n",
    "data.sort(reverse=True)\n",
    "\n",
    "print(data)\n",
    "print('-'*45)"
   ]
  },
  {
   "cell_type": "code",
   "execution_count": 3,
   "metadata": {},
   "outputs": [
    {
     "name": "stdout",
     "output_type": "stream",
     "text": [
      "原始資料\n",
      "1005 --> 75\n",
      "1003 --> 68\n",
      "1004 --> 90\n",
      "1010 --> 45\n",
      "1009 --> 66\n",
      "1007 --> 82\n",
      "1006 --> 100\n",
      "1008 --> 93\n",
      "1001 --> 75\n",
      "1002 --> 50\n",
      "------------------------------\n",
      "排序後, 由key排序\n",
      "['1001', '1002', '1003', '1004', '1005', '1006', '1007', '1008', '1009', '1010']\n",
      "------------------------------\n",
      "排序後, 由value排序\n",
      "[('1010', 45), ('1002', 50), ('1009', 66), ('1003', 68), ('1005', 75), ('1001', 75), ('1007', 82), ('1004', 90), ('1008', 93), ('1006', 100)]\n",
      "------------------------------\n"
     ]
    }
   ],
   "source": [
    "# 建立一個dict\n",
    "data={'1005':75, '1003':68, '1004':90, '1010':45, '1009':66, '1007':82, '1006':100, '1008':93, '1001':75, '1002':50}\n",
    "\n",
    "# 排序(由小到大)\n",
    "dataByKey=sorted(data)\n",
    "\n",
    "print('原始資料')\n",
    "for key, value in data.items():\n",
    "    print(key, '-->', value)\n",
    "print('-'*30)\n",
    "\n",
    "print('排序後, 由key排序')\n",
    "print(dataByKey)\n",
    "print('-'*30)\n",
    "\n",
    "\n",
    "# 排序(由小到大)\n",
    "dataByValue = sorted(data.items(), key=lambda x:x[1])\n",
    "\n",
    "print('排序後, 由value排序')\n",
    "print(dataByValue)\n",
    "print('-'*30)"
   ]
  },
  {
   "cell_type": "code",
   "execution_count": null,
   "metadata": {},
   "outputs": [],
   "source": []
  }
 ],
 "metadata": {
  "kernelspec": {
   "display_name": "Python 3",
   "language": "python",
   "name": "python3"
  },
  "language_info": {
   "codemirror_mode": {
    "name": "ipython",
    "version": 3
   },
   "file_extension": ".py",
   "mimetype": "text/x-python",
   "name": "python",
   "nbconvert_exporter": "python",
   "pygments_lexer": "ipython3",
   "version": "3.7.4"
  }
 },
 "nbformat": 4,
 "nbformat_minor": 2
}
