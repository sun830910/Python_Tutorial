{
 "cells": [
  {
   "cell_type": "markdown",
   "metadata": {},
   "source": [
    "# 敘述-if\n",
    "用if進行不同情況的處理. 撰寫時, 同一條件內的敘述應有相同的縮行."
   ]
  },
  {
   "cell_type": "code",
   "execution_count": 1,
   "metadata": {},
   "outputs": [
    {
     "name": "stdout",
     "output_type": "stream",
     "text": [
      "成績:50\n",
      "等第=丁等\n"
     ]
    }
   ],
   "source": [
    "score=int(input('成績:'))\n",
    "\n",
    "# if判斷\n",
    "if score>=90:\n",
    "    rank='優等'\n",
    "elif score>=80 and score<90:\n",
    "    rank='甲等'\n",
    "elif score>=70 and score<80:\n",
    "    rank='乙等'\n",
    "elif score>=60 and score<70:\n",
    "    rank='丙等'\n",
    "else:\n",
    "    rank='丁等'    \n",
    "\n",
    "print('等第={}'.format(rank))          "
   ]
  },
  {
   "cell_type": "code",
   "execution_count": null,
   "metadata": {},
   "outputs": [],
   "source": []
  }
 ],
 "metadata": {
  "kernelspec": {
   "display_name": "Python 3",
   "language": "python",
   "name": "python3"
  },
  "language_info": {
   "codemirror_mode": {
    "name": "ipython",
    "version": 3
   },
   "file_extension": ".py",
   "mimetype": "text/x-python",
   "name": "python",
   "nbconvert_exporter": "python",
   "pygments_lexer": "ipython3",
   "version": "3.7.4"
  }
 },
 "nbformat": 4,
 "nbformat_minor": 2
}
