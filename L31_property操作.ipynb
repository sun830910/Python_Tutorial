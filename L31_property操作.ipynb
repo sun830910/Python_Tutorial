{
 "cells": [
  {
   "cell_type": "markdown",
   "metadata": {},
   "source": [
    "# 類別(class)-@property\n",
    "如果改寫了類別中屬性取存的邏輯, 能讓其他程式用直接取存屬性值的方式呼叫改寫的方法, 比呼叫getter及setter方便, 也是比較推薦的作法. 改寫的屬性實際存放名稱在前方加上一個_(底線), 另外在設定屬性值的方法前加上@property修飾, 在取出屬性值的方法前加上@屬性名稱.setter的修飾. 之前加上底線的屬性名稱, 是為了和設定及取用方法的名稱有所區別."
   ]
  },
  {
   "cell_type": "code",
   "execution_count": 1,
   "metadata": {},
   "outputs": [],
   "source": [
    "#------------------------------------------------\n",
    "# 定義學生類別\n",
    "#------------------------------------------------\n",
    "class Student():\n",
    "    #------------------------------       \n",
    "    # 建構元\n",
    "    # 為了重新定義gender屬性的取存, \n",
    "    # 將實際存放名稱改為 _gender.\n",
    "    #------------------------------   \n",
    "    def __init__(self, stuNo, stuName, gender=None):\n",
    "        self.stuNo=stuNo\n",
    "        self.stuName=stuName\n",
    "        self.gender=gender    #這行指令會呼叫@gender.setter方法\n",
    "\n",
    "    #----------------------------------    \n",
    "    # 取用gender屬性的方法\n",
    "    # 直接用 [...=實例名稱.gender] 即可\n",
    "    #---------------------------------- \n",
    "    @property\n",
    "    def gender(self):\n",
    "        if self._gender=='M':\n",
    "            return '男'\n",
    "        elif self._gender=='F':\n",
    "            return '女'\n",
    "        else:\n",
    "            return None\n",
    "\n",
    "    #----------------------------------    \n",
    "    # 寫入gender屬性的方法\n",
    "    # 直接用 [實例名稱.gender=...] 即可\n",
    "    #---------------------------------- \n",
    "    @gender.setter\n",
    "    def gender(self, gender):\n",
    "        if gender=='M' or gender=='F':\n",
    "            self._gender=gender\n",
    "        else:\n",
    "            self._gender=None\n",
    "    \n",
    "\n",
    "    #-------------------    \n",
    "    # 取出學制的方法\n",
    "    #-------------------\n",
    "    def division(self):\n",
    "        if self.stuNo[0]=='N':\n",
    "            return '進修推廣部'\n",
    "        else:\n",
    "            return '日間部'   "
   ]
  },
  {
   "cell_type": "code",
   "execution_count": 2,
   "metadata": {},
   "outputs": [
    {
     "name": "stdout",
     "output_type": "stream",
     "text": [
      "學號:1056001  姓名:王小明  性別:女  學制:日間部\n",
      "學號:1056002  姓名:陳小華  性別:None  學制:日間部\n",
      "學號:1056003  姓名:李小強  性別:None  學制:日間部\n"
     ]
    }
   ],
   "source": [
    "#--------------------------------------------\n",
    "# 生成實例\n",
    "#--------------------------------------------\n",
    "s1=Student('1056001', '王小明', 'F')\n",
    "s2=Student('1056002', '陳小華')\n",
    "s3=Student('1056003', '李小強', 'A')\n",
    "\n",
    "#--------------------------------------------\n",
    "# 呼叫實例的方法\n",
    "#-------------------------------------------- \n",
    "print('學號:{}  姓名:{}  性別:{}  學制:{}'.format(s1.stuNo, s1.stuName, s1.gender, s1.division()))\n",
    "print('學號:{}  姓名:{}  性別:{}  學制:{}'.format(s2.stuNo, s2.stuName, s2.gender, s2.division()))\n",
    "print('學號:{}  姓名:{}  性別:{}  學制:{}'.format(s3.stuNo, s3.stuName, s3.gender, s3.division()))"
   ]
  },
  {
   "cell_type": "code",
   "execution_count": 3,
   "metadata": {},
   "outputs": [
    {
     "name": "stdout",
     "output_type": "stream",
     "text": [
      "學號:1056001  姓名:王小明  性別:F  學制:日間部\n",
      "學號:1056002  姓名:陳小華  性別:None  學制:日間部\n",
      "學號:1056003  姓名:李小強  性別:None  學制:日間部\n"
     ]
    }
   ],
   "source": [
    "#----------------------------------------------------\n",
    "# 生成實例\n",
    "#----------------------------------------------------\n",
    "s1=Student('1056001', '王小明', 'F')\n",
    "s2=Student('1056002', '陳小華')\n",
    "s3=Student('1056003', '李小強', 'A')\n",
    "\n",
    "#----------------------------------------------------\n",
    "# 呼叫實例的方法\n",
    "# 直接取用被保護的屬性 _gender, 雖然可執行, 但不推薦\n",
    "#---------------------------------------------------- \n",
    "print('學號:{}  姓名:{}  性別:{}  學制:{}'.format(s1.stuNo, s1.stuName, s1._gender, s1.division()))\n",
    "print('學號:{}  姓名:{}  性別:{}  學制:{}'.format(s2.stuNo, s2.stuName, s2._gender, s2.division()))\n",
    "print('學號:{}  姓名:{}  性別:{}  學制:{}'.format(s3.stuNo, s3.stuName, s3._gender, s3.division()))"
   ]
  },
  {
   "cell_type": "code",
   "execution_count": null,
   "metadata": {},
   "outputs": [],
   "source": []
  }
 ],
 "metadata": {
  "kernelspec": {
   "display_name": "Python 3",
   "language": "python",
   "name": "python3"
  },
  "language_info": {
   "codemirror_mode": {
    "name": "ipython",
    "version": 3
   },
   "file_extension": ".py",
   "mimetype": "text/x-python",
   "name": "python",
   "nbconvert_exporter": "python",
   "pygments_lexer": "ipython3",
   "version": "3.7.4"
  }
 },
 "nbformat": 4,
 "nbformat_minor": 2
}
