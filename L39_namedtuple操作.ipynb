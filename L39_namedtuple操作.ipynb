{
 "cells": [
  {
   "cell_type": "markdown",
   "metadata": {},
   "source": [
    "# 資料型態(Data types)-namedtuple\n",
    "namedtuple可以設定其內元素的名稱, 作為Python內建資料型態tuple的另一種選擇."
   ]
  },
  {
   "cell_type": "code",
   "execution_count": 1,
   "metadata": {},
   "outputs": [
    {
     "name": "stdout",
     "output_type": "stream",
     "text": [
      "Scores(chi=65, eng=85, mat=75)\n",
      "------------------------------\n",
      "國文:65\n",
      "英文:85\n",
      "數學:75\n",
      "------------------------------\n",
      "國文:65\n",
      "英文:85\n",
      "數學:75\n",
      "------------------------------\n"
     ]
    }
   ],
   "source": [
    "#--------------------------------------------------\n",
    "# 匯入collections模組中的namedtuple類別\n",
    "#--------------------------------------------------\n",
    "from collections import namedtuple\n",
    "\n",
    "#--------------------------------------------------\n",
    "# 設定一個儲存成績的namedtuple \n",
    "#--------------------------------------------------\n",
    "Scores = namedtuple('Scores', ['chi', 'eng', 'mat'])\n",
    "s = Scores(65, 85, 75)  \n",
    "print(s)\n",
    "print('-'*30)\n",
    "\n",
    "#--------------------------------------------------\n",
    "# 以index取用namedtuple內容\n",
    "#--------------------------------------------------\n",
    "print('國文:{}'.format(s[0]))\n",
    "print('英文:{}'.format(s[1]))\n",
    "print('數學:{}'.format(s[2]))\n",
    "print('-'*30)\n",
    "\n",
    "#--------------------------------------------------\n",
    "# 以名稱取用namedtuple內容\n",
    "#--------------------------------------------------\n",
    "print('國文:{}'.format(s.chi))\n",
    "print('英文:{}'.format(s.eng))\n",
    "print('數學:{}'.format(s.mat))\n",
    "print('-'*30)"
   ]
  },
  {
   "cell_type": "code",
   "execution_count": null,
   "metadata": {},
   "outputs": [],
   "source": []
  }
 ],
 "metadata": {
  "kernelspec": {
   "display_name": "Python 3",
   "language": "python",
   "name": "python3"
  },
  "language_info": {
   "codemirror_mode": {
    "name": "ipython",
    "version": 3
   },
   "file_extension": ".py",
   "mimetype": "text/x-python",
   "name": "python",
   "nbconvert_exporter": "python",
   "pygments_lexer": "ipython3",
   "version": "3.7.4"
  }
 },
 "nbformat": 4,
 "nbformat_minor": 2
}
