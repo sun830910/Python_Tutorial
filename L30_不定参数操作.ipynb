{
 "cells": [
  {
   "cell_type": "markdown",
   "metadata": {},
   "source": [
    "# 類別(class)-不定參數\n",
    "生成類別的實例後, 建構元會接著被執行. 呼叫類別的傳入參數此時透過指向實例的self, 也許進行將參數寫入實例中的程式. 如果允許呼叫類別時參數可以不傳入, 就先在參數後加入其預設值."
   ]
  },
  {
   "cell_type": "code",
   "execution_count": 1,
   "metadata": {},
   "outputs": [],
   "source": [
    "#------------------------------------------------\n",
    "# 定義學生類別\n",
    "#------------------------------------------------\n",
    "class Student():\n",
    "    #----------------------------------------    \n",
    "    # 建構元 \n",
    "    # (性別可以不傳, 當不傳時其內容設定為None)\n",
    "    #----------------------------------------\n",
    "    def __init__(self, stuNo, stuName, gender=None):\n",
    "        self.stuNo=stuNo\n",
    "        self.stuName=stuName\n",
    "        self.gender=gender\n",
    "\n",
    "    #-------------------    \n",
    "    # 取出性別的方法\n",
    "    #-------------------        \n",
    "    def getGender(self):\n",
    "        if self.gender=='M':\n",
    "            return '男'\n",
    "        elif self.gender=='F':\n",
    "            return '女'\n",
    "        else:\n",
    "            return None\n",
    "\n",
    "    #-------------------    \n",
    "    # 取出學制的方法\n",
    "    #-------------------            \n",
    "    def division(self):\n",
    "        if self.stuNo[0]=='N':\n",
    "            return '進修推廣部'\n",
    "        else:\n",
    "            return '日間部'            "
   ]
  },
  {
   "cell_type": "code",
   "execution_count": 2,
   "metadata": {},
   "outputs": [
    {
     "name": "stdout",
     "output_type": "stream",
     "text": [
      "學號:1056001  姓名:王小明  性別:男  學制:日間部\n",
      "學號:1056002  姓名:陳小華  性別:None  學制:日間部\n"
     ]
    }
   ],
   "source": [
    "#--------------------------------------------\n",
    "# 生成實例\n",
    "#--------------------------------------------\n",
    "s1=Student('1056001', '王小明', 'M')\n",
    "s2=Student('1056002', '陳小華')\n",
    "\n",
    "#--------------------------------------------\n",
    "# 呼叫實例的方法\n",
    "#-------------------------------------------- \n",
    "print('學號:{}  姓名:{}  性別:{}  學制:{}'.format(s1.stuNo, s1.stuName, s1.getGender(), s1.division()))\n",
    "print('學號:{}  姓名:{}  性別:{}  學制:{}'.format(s2.stuNo, s2.stuName, s2.getGender(), s2.division()))"
   ]
  },
  {
   "cell_type": "code",
   "execution_count": 3,
   "metadata": {},
   "outputs": [],
   "source": [
    "#------------------------------------------------\n",
    "# 定義學生類別\n",
    "#------------------------------------------------\n",
    "class Student():\n",
    "    #----------------------------------------    \n",
    "    # 建構元 \n",
    "    # (性別可以不傳, 當不傳時其內容設定為None)\n",
    "    #----------------------------------------\n",
    "    def __init__(self, stuNo, stuName, gender=None):\n",
    "        self.stuNo=stuNo\n",
    "        self.stuName=stuName\n",
    "        self.gender=gender\n",
    "\n",
    "    #-------------------    \n",
    "    # 取出性別的方法\n",
    "    #-------------------        \n",
    "    def getGender(self):\n",
    "        if self.gender=='M':\n",
    "            return '男'\n",
    "        elif self.gender=='F':\n",
    "            return '女'\n",
    "        else:\n",
    "            return None\n",
    "\n",
    "    #-------------------    \n",
    "    # 取出學制的方法\n",
    "    #-------------------            \n",
    "    def division(self):\n",
    "        if self.stuNo[0]=='N':\n",
    "            return '進修推廣部'\n",
    "        else:\n",
    "            return '日間部'            "
   ]
  },
  {
   "cell_type": "code",
   "execution_count": 4,
   "metadata": {},
   "outputs": [
    {
     "name": "stdout",
     "output_type": "stream",
     "text": [
      "學號:10556001  姓名:王小明  性別:男  學制:日間部\n",
      "學號:10556002  姓名:陳小華  性別:女  學制:日間部\n",
      "學號:10551003  姓名:李小強  性別:None  學制:日間部\n"
     ]
    }
   ],
   "source": [
    "#---------------------------\n",
    "# 將建成物件的原始資料\n",
    "#---------------------------\n",
    "data=[('10556001', '王小明', 'M'), ('10556002', '陳小華', 'F'), ('10551003', '李小強')]\n",
    "\n",
    "#---------------------------\n",
    "# 將放置多個物件的list\n",
    "#---------------------------\n",
    "students=[]\n",
    "\n",
    "#-----------------------------------------\n",
    "# 生成Student類別的實例, 將它加入list中\n",
    "#-----------------------------------------\n",
    "for d in data:\n",
    "    if len(d)==3:\n",
    "        students.append(Student(d[0], d[1], d[2]))\n",
    "    else:\n",
    "        students.append(Student(d[0], d[1]))\n",
    "    \n",
    "#---------------------------\n",
    "# 逐一呼叫各個物件的方法\n",
    "#---------------------------    \n",
    "for s in students:    \n",
    "    print('學號:{}  姓名:{}  性別:{}  學制:{}'.format(s.stuNo, s.stuName, s.getGender(), s.division())) "
   ]
  },
  {
   "cell_type": "code",
   "execution_count": null,
   "metadata": {},
   "outputs": [],
   "source": []
  }
 ],
 "metadata": {
  "kernelspec": {
   "display_name": "Python 3",
   "language": "python",
   "name": "python3"
  },
  "language_info": {
   "codemirror_mode": {
    "name": "ipython",
    "version": 3
   },
   "file_extension": ".py",
   "mimetype": "text/x-python",
   "name": "python",
   "nbconvert_exporter": "python",
   "pygments_lexer": "ipython3",
   "version": "3.7.4"
  }
 },
 "nbformat": 4,
 "nbformat_minor": 2
}
