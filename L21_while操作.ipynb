{
 "cells": [
  {
   "cell_type": "markdown",
   "metadata": {},
   "source": [
    "# 敘述-while\n",
    "用while進行重覆的工作. 迴圈內的敘述應該有相同的內縮."
   ]
  },
  {
   "cell_type": "code",
   "execution_count": 1,
   "metadata": {},
   "outputs": [
    {
     "name": "stdout",
     "output_type": "stream",
     "text": [
      "1\n",
      "6\n",
      "11\n",
      "16\n",
      "21\n",
      "26\n",
      "31\n",
      "36\n",
      "41\n",
      "46\n",
      "51\n",
      "56\n",
      "61\n",
      "66\n",
      "71\n",
      "76\n",
      "81\n",
      "86\n",
      "91\n",
      "96\n"
     ]
    }
   ],
   "source": [
    "a=1\n",
    "\n",
    "while a<=100:\n",
    "    print(a)\n",
    "    a=a+5       "
   ]
  },
  {
   "cell_type": "code",
   "execution_count": 2,
   "metadata": {},
   "outputs": [
    {
     "name": "stdout",
     "output_type": "stream",
     "text": [
      "37\n",
      "73\n",
      "98\n",
      "27\n",
      "1\n",
      "97\n",
      "85\n",
      "67\n",
      "56\n"
     ]
    }
   ],
   "source": [
    "import random\n",
    "\n",
    "while True:\n",
    "    # 產生一個1~100的整數亂數\n",
    "    a=random.randint(1, 100) \n",
    "\n",
    "    # 進行下一個迴圈\n",
    "    if a==50:\n",
    "        continue\n",
    "    \n",
    "    # 離開迴圈    \n",
    "    if a==10:\n",
    "        break    \n",
    "\n",
    "    # 印出亂數\n",
    "    print(a)           "
   ]
  },
  {
   "cell_type": "code",
   "execution_count": null,
   "metadata": {},
   "outputs": [],
   "source": []
  }
 ],
 "metadata": {
  "kernelspec": {
   "display_name": "Python 3",
   "language": "python",
   "name": "python3"
  },
  "language_info": {
   "codemirror_mode": {
    "name": "ipython",
    "version": 3
   },
   "file_extension": ".py",
   "mimetype": "text/x-python",
   "name": "python",
   "nbconvert_exporter": "python",
   "pygments_lexer": "ipython3",
   "version": "3.7.4"
  }
 },
 "nbformat": 4,
 "nbformat_minor": 2
}
