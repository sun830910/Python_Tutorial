{
 "cells": [
  {
   "cell_type": "markdown",
   "metadata": {},
   "source": [
    "# Python的內建函式\n",
    "Python提供了許多內建函式(Built-in Functions), 不需引入模組, 可以直接使用. 詳細內容建議查看Python文件.  \n",
    "abs()  \n",
    "dict()  \n",
    "help()  \n",
    "min()  \n",
    "setattr()  \n",
    "all()  \n",
    "dir()  \n",
    "hex()  \n",
    "next()  \n",
    "slice()  \n",
    "any()  \n",
    "divmod()  \n",
    "id()  \n",
    "object()  \n",
    "sorted()  \n",
    "ascii()  \n",
    "enumerate()\t  \n",
    "input()  \n",
    "oct()  \n",
    "staticmethod()  \n",
    "bin()  \n",
    "eval()  \n",
    "int()  \n",
    "open()  \n",
    "str()  \n",
    "bool()  \n",
    "exec()  \n",
    "isinstance()  \n",
    "ord()  \n",
    "sum()  \n",
    "bytearray()  \n",
    "filter()  \n",
    "issubclass()  \n",
    "pow()  \n",
    "super()  \n",
    "bytes()  \n",
    "float()  \n",
    "iter()  \n",
    "print()  \n",
    "tuple()  \n",
    "callable()  \n",
    "format()  \n",
    "len()  \n",
    "property()  \n",
    "type()  \n",
    "chr()  \n",
    "frozenset()  \n",
    "list()  \n",
    "range()  \n",
    "vars()  \n",
    "classmethod()  \n",
    "getattr()  \n",
    "locals()  \n",
    "repr()  \n",
    "zip()  \n",
    "compile()   \n",
    "globals()  \n",
    "map()  \n",
    "reversed()  \n",
    "__import__()  \n",
    "complex()  \n",
    "hasattr()  \n",
    "max()  \n",
    "round()\t   \n",
    "delattr()  \n",
    "hash()  \n",
    "memoryview()  \n",
    "set()\t  "
   ]
  },
  {
   "cell_type": "code",
   "execution_count": 1,
   "metadata": {},
   "outputs": [
    {
     "name": "stdout",
     "output_type": "stream",
     "text": [
      "是否全部成立: False\n",
      "------------------------------\n",
      "是否任一成立: True\n",
      "------------------------------\n",
      "A\n",
      "<class 'str'>\n",
      "------------------------------\n"
     ]
    }
   ],
   "source": [
    "# 建立一個list物件\n",
    "test=[True, False, True, True, True]\n",
    "\n",
    "\n",
    "# 全部成立\n",
    "print('是否全部成立:', all(test))\n",
    "print('-'*30)   \n",
    "\n",
    "\n",
    "# 任一成立\n",
    "print('是否任一成立:', any(test))\n",
    "print('-'*30)    \n",
    "\n",
    "\n",
    "# ASCII轉文字\n",
    "c = chr(65)\n",
    "print(c)\n",
    "print(type(c))\n",
    "print('-'*30)"
   ]
  },
  {
   "cell_type": "code",
   "execution_count": null,
   "metadata": {},
   "outputs": [],
   "source": []
  }
 ],
 "metadata": {
  "kernelspec": {
   "display_name": "Python 3",
   "language": "python",
   "name": "python3"
  },
  "language_info": {
   "codemirror_mode": {
    "name": "ipython",
    "version": 3
   },
   "file_extension": ".py",
   "mimetype": "text/x-python",
   "name": "python",
   "nbconvert_exporter": "python",
   "pygments_lexer": "ipython3",
   "version": "3.7.4"
  }
 },
 "nbformat": 4,
 "nbformat_minor": 2
}
