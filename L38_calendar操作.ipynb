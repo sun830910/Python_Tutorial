{
 "cells": [
  {
   "cell_type": "markdown",
   "metadata": {},
   "source": [
    "# 資料型態(Data types)-calendar\n",
    "在calendar模組(module)中, 有幾個與日曆相關的函式可使用."
   ]
  },
  {
   "cell_type": "code",
   "execution_count": 1,
   "metadata": {},
   "outputs": [
    {
     "name": "stdout",
     "output_type": "stream",
     "text": [
      "<class 'str'>\n",
      "   November 2017\n",
      "Mo Tu We Th Fr Sa Su\n",
      "       1  2  3  4  5\n",
      " 6  7  8  9 10 11 12\n",
      "13 14 15 16 17 18 19\n",
      "20 21 22 23 24 25 26\n",
      "27 28 29 30\n",
      "\n",
      "星期一\n"
     ]
    }
   ],
   "source": [
    "#--------------------------------------------------\n",
    "# 匯入calendar模組類別\n",
    "#--------------------------------------------------\n",
    "import calendar\n",
    "\n",
    "#--------------------------------------------------\n",
    "# 呼叫calendar模組中的month函式. \n",
    "#--------------------------------------------------\n",
    "cal = calendar.month(2017, 11)\n",
    "print(type(cal))\n",
    "print(cal)\n",
    "\n",
    "#--------------------------------------------------\n",
    "# 呼叫calendar模組中的weekday函式. \n",
    "#--------------------------------------------------\n",
    "wd=('星期一', '星期二', '星期三', '星期四', '星期五', '星期六', '星期日')\n",
    "print(wd[calendar.weekday(2017, 11, 20)])"
   ]
  },
  {
   "cell_type": "code",
   "execution_count": null,
   "metadata": {},
   "outputs": [],
   "source": []
  }
 ],
 "metadata": {
  "kernelspec": {
   "display_name": "Python 3",
   "language": "python",
   "name": "python3"
  },
  "language_info": {
   "codemirror_mode": {
    "name": "ipython",
    "version": 3
   },
   "file_extension": ".py",
   "mimetype": "text/x-python",
   "name": "python",
   "nbconvert_exporter": "python",
   "pygments_lexer": "ipython3",
   "version": "3.7.4"
  }
 },
 "nbformat": 4,
 "nbformat_minor": 2
}
