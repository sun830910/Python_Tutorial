{
 "cells": [
  {
   "cell_type": "markdown",
   "metadata": {},
   "source": [
    "# list內容增刪\n",
    "用list的索引可以操作元素內容; 用list的append()及pop()方法可以增刪; 用del敘述可以刪除內容."
   ]
  },
  {
   "cell_type": "code",
   "execution_count": 1,
   "metadata": {},
   "outputs": [
    {
     "name": "stdout",
     "output_type": "stream",
     "text": [
      "原始資料\n",
      "['0', '1', '2', '3', '4', '5', '6', '7', '8', '9']\n",
      "--------------------------------------------------\n",
      "選取資料(index)\n",
      "2\n",
      "--------------------------------------------------\n",
      "選取資料(start:end)\n",
      "['0', '1', '2', '3', '4']\n",
      "--------------------------------------------------\n",
      "選取資料(start:end:step)\n",
      "['0', '2', '4']\n",
      "--------------------------------------------------\n"
     ]
    }
   ],
   "source": [
    "# 準備一個有10個資料的list\n",
    "data=[]\n",
    "\n",
    "for i in range(10):\n",
    "    data.append(str(i))\n",
    "    \n",
    "print('原始資料')    \n",
    "print(data)\n",
    "print('-'*50)\n",
    "\n",
    "# 選取資料(index)\n",
    "print('選取資料(index)')\n",
    "print(data[2])\n",
    "print('-'*50)\n",
    "\n",
    "# 選取資料(start:end)\n",
    "print('選取資料(start:end)')\n",
    "print(data[0:5])\n",
    "print('-'*50)\n",
    "\n",
    "# 選取資料(start:end:step)\n",
    "print('選取資料(start:end:step)')\n",
    "print(data[0:5:2])\n",
    "print('-'*50)           "
   ]
  },
  {
   "cell_type": "code",
   "execution_count": 2,
   "metadata": {},
   "outputs": [
    {
     "name": "stdout",
     "output_type": "stream",
     "text": [
      "原始資料\n",
      "['0', '1', '2', '3', '4', '5', '6', '7', '8', '9']\n",
      "--------------------------------------------------\n",
      "插入資料(前端)\n",
      "['資料a', '資料b', '0', '1', '2', '3', '4', '5', '6', '7', '8', '9']\n",
      "--------------------------------------------------\n",
      "插入資料(尾端)\n",
      "['資料a', '資料b', '0', '1', '2', '3', '4', '5', '6', '7', '8', '9', '資料c', '資料d']\n",
      "--------------------------------------------------\n",
      "插入資料(中間)\n",
      "['資料a', '資料b', '0', '1', '2', '資料e', '資料f', '3', '4', '5', '6', '7', '8', '9', '資料c', '資料d']\n",
      "--------------------------------------------------\n"
     ]
    }
   ],
   "source": [
    "# 準備一個有10個資料的list\n",
    "data=[]\n",
    "\n",
    "for i in range(10):\n",
    "    data.append(str(i))\n",
    "    \n",
    "print('原始資料')    \n",
    "print(data)\n",
    "print('-'*50)\n",
    "\n",
    "# 插入資料(前端)\n",
    "data[:0]=['資料a', '資料b']\n",
    "print('插入資料(前端)')\n",
    "print(data)\n",
    "print('-'*50)\n",
    "\n",
    "# 插入資料(尾端)\n",
    "data[len(data):]=['資料c', '資料d']\n",
    "print('插入資料(尾端)')\n",
    "print(data)\n",
    "print('-'*50)\n",
    "\n",
    "# 插入資料(中間)\n",
    "data[5:5]=['資料e', '資料f']\n",
    "print('插入資料(中間)')\n",
    "print(data)\n",
    "print('-'*50)            "
   ]
  },
  {
   "cell_type": "code",
   "execution_count": 3,
   "metadata": {},
   "outputs": [
    {
     "name": "stdout",
     "output_type": "stream",
     "text": [
      "原始資料\n",
      "['0', '1', '2', '3', '4', '5', '6', '7', '8', '9']\n",
      "--------------------------------------------------\n",
      "append(somedata)\n",
      "['0', '1', '2', '3', '4', '5', '6', '7', '8', '9', '資料a']\n",
      "--------------------------------------------------\n",
      "insert(somedata)\n",
      "['0', '資料b', '1', '2', '3', '4', '5', '6', '7', '8', '9', '資料a']\n",
      "--------------------------------------------------\n",
      "pop()\n",
      "資料a\n",
      "['0', '資料b', '1', '2', '3', '4', '5', '6', '7', '8', '9']\n",
      "--------------------------------------------------\n",
      "del\n",
      "0\n",
      "['資料b', '1', '2', '3', '4', '5', '6', '7', '8', '9']\n",
      "--------------------------------------------------\n"
     ]
    }
   ],
   "source": [
    "# 準備一個有10個資料的list\n",
    "data=[]\n",
    "\n",
    "for i in range(10):\n",
    "    data.append(str(i))\n",
    "    \n",
    "print('原始資料')    \n",
    "print(data)\n",
    "print('-'*50)\n",
    "\n",
    "# 插入資料(append())\n",
    "data.append('資料a')\n",
    "print('append(somedata)')\n",
    "print(data)\n",
    "print('-'*50)\n",
    "\n",
    "# 插入資料(insert())\n",
    "data.insert(1, '資料b')\n",
    "print('insert(somedata)')\n",
    "print(data)\n",
    "print('-'*50)\n",
    "\n",
    "# 取出資料並刪除(pop())\n",
    "print('pop()')\n",
    "print(data.pop())\n",
    "print(data)\n",
    "print('-'*50)\n",
    "\n",
    "# 刪除(del)\n",
    "print('del')\n",
    "print(data[0])\n",
    "del data[0]\n",
    "print(data)\n",
    "print('-'*50)       "
   ]
  },
  {
   "cell_type": "code",
   "execution_count": null,
   "metadata": {},
   "outputs": [],
   "source": []
  }
 ],
 "metadata": {
  "kernelspec": {
   "display_name": "Python 3",
   "language": "python",
   "name": "python3"
  },
  "language_info": {
   "codemirror_mode": {
    "name": "ipython",
    "version": 3
   },
   "file_extension": ".py",
   "mimetype": "text/x-python",
   "name": "python",
   "nbconvert_exporter": "python",
   "pygments_lexer": "ipython3",
   "version": "3.7.4"
  }
 },
 "nbformat": 4,
 "nbformat_minor": 2
}
