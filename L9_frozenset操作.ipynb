{
 "cells": [
  {
   "cell_type": "markdown",
   "metadata": {},
   "source": [
    "# Python內建集合型態-frozenset\n",
    "在Python中宣告一個frozenset(集合)物件, 可由frozenset()函式建立, 傳入set或list資料內容皆可. 在frozenset中的元素不會重覆, 而frozenset物件內容不可在設定後再增減(immutable).\n",
    "## 1. frozenset(集合)"
   ]
  },
  {
   "cell_type": "code",
   "execution_count": 1,
   "metadata": {},
   "outputs": [
    {
     "name": "stdout",
     "output_type": "stream",
     "text": [
      "1\n",
      "2\n",
      "4\n",
      "5\n",
      "6\n",
      "8\n",
      "9\n",
      "------------------------------\n"
     ]
    }
   ],
   "source": [
    "# 建立一個set物件\n",
    "a=frozenset({2, 4, 5, 6, 2, 1, 4, 6, 8, 9})\n",
    "\n",
    "\n",
    "# 印出a中的所有元素(沒有重覆內容)\n",
    "for i in a:\n",
    "    print(i)\n",
    "    \n",
    "print('-'*30) "
   ]
  },
  {
   "cell_type": "markdown",
   "metadata": {},
   "source": [
    "## 2. 可以操作在集合型態的運算, 包括set(mutable)及frozenset(immutable)\n",
    "完整資料建議查看Python文件  \n",
    "len(s)  \n",
    "x in s  \n",
    "x not in s  \n",
    "isdisjoint(other)  \n",
    "issubset(other)  \n",
    "set <= other  \n",
    "set < other  \n",
    "issuperset(other)  \n",
    "set >= other  \n",
    "set > other  \n",
    "union(*others)  \n",
    "set | other | ...  \n",
    "intersection(*others)  \n",
    "set & other & ...  \n",
    "difference(*others)  \n",
    "set - other - ...  \n",
    "symmetric_difference(other)  \n",
    "set ^ other  \n",
    "copy()  "
   ]
  },
  {
   "cell_type": "code",
   "execution_count": 2,
   "metadata": {},
   "outputs": [
    {
     "name": "stdout",
     "output_type": "stream",
     "text": [
      "frozenset({1, 2, 4, 5, 6, 8, 9})\n",
      "------------------------------\n",
      "10是否存在: False\n",
      "------------------------------\n",
      "5是否存在: True\n",
      "------------------------------\n",
      "長度: 7\n",
      "------------------------------\n"
     ]
    }
   ],
   "source": [
    "# 建立一個set物件\n",
    "a=frozenset({2, 4, 5, 6, 2, 1, 4, 6, 8, 9})\n",
    "\n",
    "print(a)\n",
    "print('-'*30)\n",
    "\n",
    "# 是否存在set中\n",
    "print('10是否存在:', 10 in a)\n",
    "print('-'*30) \n",
    "\n",
    "print('5是否存在:', 5 in a)\n",
    "print('-'*30) \n",
    "\n",
    "# 長度\n",
    "print('長度:', len(a))\n",
    "print('-'*30) "
   ]
  },
  {
   "cell_type": "code",
   "execution_count": 3,
   "metadata": {},
   "outputs": [
    {
     "name": "stdout",
     "output_type": "stream",
     "text": [
      "a集合: frozenset({1, 3, 5, 6, 7, 8, 9})\n",
      "b集合: frozenset({18, 20, 5, 6, 12})\n",
      "----------------------------------------\n",
      "a,b交集 frozenset({5, 6})\n",
      "a,b聯集 frozenset({1, 3, 5, 6, 7, 8, 9, 12, 18, 20})\n",
      "a,b差集 frozenset({1, 3, 7, 8, 9})\n",
      "----------------------------------------\n"
     ]
    }
   ],
   "source": [
    "# 建立2個set物件\n",
    "a=frozenset({5, 6, 8, 9, 3, 1, 8, 7, 5})\n",
    "b=frozenset({5, 6, 12, 18, 20})\n",
    "\n",
    "print('a集合:', a)\n",
    "print('b集合:',b)\n",
    "print('-'*40)\n",
    "\n",
    "print('a,b交集', a & b)\n",
    "print('a,b聯集', a | b)\n",
    "print('a,b差集', a - b)\n",
    "print('-'*40)"
   ]
  },
  {
   "cell_type": "markdown",
   "metadata": {},
   "source": [
    "## 3. frozenset沒有mutable運算\n",
    "frozenset是immutable型態, 生成物件設定初值後, 其內容就不可再變動."
   ]
  },
  {
   "cell_type": "code",
   "execution_count": null,
   "metadata": {},
   "outputs": [],
   "source": []
  }
 ],
 "metadata": {
  "kernelspec": {
   "display_name": "Python 3",
   "language": "python",
   "name": "python3"
  },
  "language_info": {
   "codemirror_mode": {
    "name": "ipython",
    "version": 3
   },
   "file_extension": ".py",
   "mimetype": "text/x-python",
   "name": "python",
   "nbconvert_exporter": "python",
   "pygments_lexer": "ipython3",
   "version": "3.7.4"
  }
 },
 "nbformat": 4,
 "nbformat_minor": 2
}
