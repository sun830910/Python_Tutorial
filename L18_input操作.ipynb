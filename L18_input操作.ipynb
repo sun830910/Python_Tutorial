{
 "cells": [
  {
   "cell_type": "markdown",
   "metadata": {},
   "source": [
    "# Python的內建函式-input\n",
    "用input()處理鍵盤輸入."
   ]
  },
  {
   "cell_type": "code",
   "execution_count": 1,
   "metadata": {},
   "outputs": [
    {
     "name": "stdout",
     "output_type": "stream",
     "text": [
      "寬(公分):20\n",
      "高(公分):30\n",
      "面積=600.0平分公分\n"
     ]
    }
   ],
   "source": [
    "w=input('寬(公分):')\n",
    "h=input('高(公分):')\n",
    "\n",
    "try:\n",
    "    width=float(w)\n",
    "    height=float(h)\n",
    "    \n",
    "    area=width*height\n",
    "    print('面積={}平分公分'.format(area))\n",
    "except ValueError:\n",
    "    print('輸入有誤')              "
   ]
  },
  {
   "cell_type": "code",
   "execution_count": null,
   "metadata": {},
   "outputs": [],
   "source": []
  }
 ],
 "metadata": {
  "kernelspec": {
   "display_name": "Python 3",
   "language": "python",
   "name": "python3"
  },
  "language_info": {
   "codemirror_mode": {
    "name": "ipython",
    "version": 3
   },
   "file_extension": ".py",
   "mimetype": "text/x-python",
   "name": "python",
   "nbconvert_exporter": "python",
   "pygments_lexer": "ipython3",
   "version": "3.7.4"
  }
 },
 "nbformat": 4,
 "nbformat_minor": 2
}
