{
 "cells": [
  {
   "cell_type": "markdown",
   "metadata": {},
   "source": [
    "# Python內建序列型態-range\n",
    "在Python中可以用range宣告一個數字範圍, 它通常用與迴圈敘述一起使用, 也可以用來生成一個特定大小的序列物件. range是建立後不可再增減內容的immutable物件.\n",
    "## 1. range"
   ]
  },
  {
   "cell_type": "code",
   "execution_count": 1,
   "metadata": {},
   "outputs": [
    {
     "name": "stdout",
     "output_type": "stream",
     "text": [
      "range(0, 10)\n",
      "------------------------------\n",
      "0\n",
      "1\n",
      "2\n",
      "3\n",
      "4\n",
      "5\n",
      "6\n",
      "7\n",
      "8\n",
      "9\n",
      "------------------------------\n",
      "1\n",
      "3\n",
      "5\n",
      "7\n",
      "9\n",
      "------------------------------\n",
      "[0, 1, 2, 3, 4, 5, 6, 7, 8, 9]\n",
      "<class 'list'>\n",
      "------------------------------\n"
     ]
    }
   ],
   "source": [
    "# 建立一個range物件\n",
    "a=range(10)\n",
    "print(a)\n",
    "print('-'*30)\n",
    "\n",
    "# 以迴圈逐個印出range所指的範圍內容, range(10)的範圍不包括10\n",
    "for i in range(10):\n",
    "    print(i)\n",
    "\n",
    "print('-'*30) \n",
    "\n",
    "\n",
    "# 逐個印出(從1開始, 大於或等於10離開迴圈, 每次跳2), range範圍不包括10\n",
    "for i in range(1, 10, 2):\n",
    "    print(i)\n",
    "    \n",
    "print('-'*30)  \n",
    "\n",
    "\n",
    "# 由range產生1個list\n",
    "b=list(range(10))\n",
    "print(b)\n",
    "print(type(b))\n",
    "print('-'*30)   "
   ]
  },
  {
   "cell_type": "code",
   "execution_count": null,
   "metadata": {},
   "outputs": [],
   "source": []
  }
 ],
 "metadata": {
  "kernelspec": {
   "display_name": "Python 3",
   "language": "python",
   "name": "python3"
  },
  "language_info": {
   "codemirror_mode": {
    "name": "ipython",
    "version": 3
   },
   "file_extension": ".py",
   "mimetype": "text/x-python",
   "name": "python",
   "nbconvert_exporter": "python",
   "pygments_lexer": "ipython3",
   "version": "3.7.4"
  }
 },
 "nbformat": 4,
 "nbformat_minor": 2
}
