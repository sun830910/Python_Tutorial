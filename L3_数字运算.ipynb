{
 "cells": [
  {
   "cell_type": "markdown",
   "metadata": {},
   "source": [
    "# Python的數字運算\n",
    "用運算元, 內建函式, math模組, 或引入其他外部模組都可進行數字運算.  \n",
    "## 1.用運算元運算  \n",
    "x + y\t  加法\t \t \n",
    "x - y\t  減法\t \t \n",
    "x * y\t  乘法\t \t \n",
    "x / y\t  除法\t \t \n",
    "x // y    商數\t \n",
    "x % y\t  餘數\t \n",
    "-x        負數\t \t \n",
    "x ** y    次方\t "
   ]
  },
  {
   "cell_type": "markdown",
   "metadata": {},
   "source": [
    "## 2.用內建函式運算\n",
    "abs(x)        絕對值  \n",
    "int(x)        轉成整數  \n",
    "float(x)      轉成浮點數  \n",
    "divmod(x, y)  算出商數及餘數  \n",
    "pow(x, y)     次方  "
   ]
  },
  {
   "cell_type": "code",
   "execution_count": 1,
   "metadata": {},
   "outputs": [
    {
     "name": "stdout",
     "output_type": "stream",
     "text": [
      "商數: 3\n",
      "餘數: 1\n",
      "------------------------------\n",
      "2的10次方= 1024\n",
      "------------------------------\n"
     ]
    }
   ],
   "source": [
    "q, r = divmod(10, 3)\n",
    "print('商數:', q)\n",
    "print('餘數:', r)\n",
    "print('-'*30)\n",
    "\n",
    "a = pow(2, 10)\n",
    "print('2的10次方=', a)\n",
    "print('-'*30)"
   ]
  },
  {
   "cell_type": "markdown",
   "metadata": {},
   "source": [
    "## 3.用math模組運算  \n",
    "math模組(Module)中定義了e及pi等常數, 也定義了許多與數學相關的函式(Functions), 詳細內容建議查看Python文件."
   ]
  },
  {
   "cell_type": "code",
   "execution_count": 2,
   "metadata": {},
   "outputs": [
    {
     "name": "stdout",
     "output_type": "stream",
     "text": [
      "2的10次方= 1024.0\n",
      "------------------------------\n",
      "24及32的最大公因數= 8\n",
      "------------------------------\n",
      "24的平方根= 4.898979485566356\n",
      "------------------------------\n",
      "半徑15的圓面積= 706.8583470577034\n",
      "------------------------------\n",
      "半徑15的圓面積(無條件進位)= 707\n",
      "------------------------------\n",
      "半徑15的圓面積(無條件進位)= 706\n",
      "------------------------------\n",
      "半徑15的圓面積(四捨五入)= 707\n",
      "------------------------------\n"
     ]
    }
   ],
   "source": [
    "import math\n",
    "\n",
    "print('2的10次方=', math.pow(2, 10))\n",
    "print('-'*30)\n",
    "\n",
    "print('24及32的最大公因數=', math.gcd(24, 32))\n",
    "print('-'*30)\n",
    "\n",
    "print('24的平方根=', math.sqrt(24))\n",
    "print('-'*30)\n",
    "\n",
    "print('半徑15的圓面積=', 15*15*math.pi)\n",
    "print('-'*30)\n",
    "\n",
    "print('半徑15的圓面積(無條件進位)=', math.ceil(15*15*math.pi))\n",
    "print('-'*30)\n",
    "\n",
    "print('半徑15的圓面積(無條件進位)=', math.floor(15*15*math.pi))\n",
    "print('-'*30)\n",
    "\n",
    "print('半徑15的圓面積(四捨五入)=', round(15*15*math.pi))\n",
    "print('-'*30)"
   ]
  },
  {
   "cell_type": "markdown",
   "metadata": {},
   "source": [
    "## 4.引入其他外部模組\n",
    "Python有許多外部模組可以引用, 有些模組可以快速解決某些特定領域的問題, 以下以numpy為例. "
   ]
  },
  {
   "cell_type": "code",
   "execution_count": 3,
   "metadata": {},
   "outputs": [
    {
     "name": "stdout",
     "output_type": "stream",
     "text": [
      "a矩陣:\n",
      "[[1. 2.]\n",
      " [3. 4.]]\n",
      "------------------------------\n",
      "a的轉置矩陣:\n",
      "[[1. 3.]\n",
      " [2. 4.]]\n",
      "------------------------------\n",
      "a的反矩陣:\n",
      "[[-2.   1. ]\n",
      " [ 1.5 -0.5]]\n",
      "------------------------------\n"
     ]
    }
   ],
   "source": [
    "import numpy as np\n",
    "\n",
    "a = np.array([[1.0, 2.0], [3.0, 4.0]])\n",
    "print('a矩陣:')\n",
    "print(a)\n",
    "print('-'*30)\n",
    "\n",
    "print('a的轉置矩陣:')\n",
    "print(a.transpose())\n",
    "print('-'*30) \n",
    "\n",
    "print('a的反矩陣:')\n",
    "print(np.linalg.inv(a))\n",
    "print('-'*30)"
   ]
  }
 ],
 "metadata": {
  "kernelspec": {
   "display_name": "Python 3",
   "language": "python",
   "name": "python3"
  },
  "language_info": {
   "codemirror_mode": {
    "name": "ipython",
    "version": 3
   },
   "file_extension": ".py",
   "mimetype": "text/x-python",
   "name": "python",
   "nbconvert_exporter": "python",
   "pygments_lexer": "ipython3",
   "version": "3.7.4"
  }
 },
 "nbformat": 4,
 "nbformat_minor": 2
}
