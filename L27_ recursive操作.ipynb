{
 "cells": [
  {
   "cell_type": "markdown",
   "metadata": {},
   "source": [
    "# 函式-recursive\n",
    "函式內的敘述呼叫函式自己, 稱為recursive."
   ]
  },
  {
   "cell_type": "code",
   "execution_count": 1,
   "metadata": {},
   "outputs": [
    {
     "name": "stdout",
     "output_type": "stream",
     "text": [
      "2432902008176640000\n"
     ]
    }
   ],
   "source": [
    "#------------------------------------\n",
    "# 計算1*2*3*....*n的值\n",
    "# 輸入:n\n",
    "# 回傳:1*2*3*...*n\n",
    "#------------------------------------\n",
    "def fn(n):\n",
    "    if n==1:\n",
    "        return 1\n",
    "    else:\n",
    "        return n*fn(n-1)\n",
    "#------------------------------------\n",
    "\n",
    "\n",
    "\n",
    "#------------------------------------\n",
    "# 主程式\n",
    "#------------------------------------\n",
    "print(fn(20))\n",
    "#------------------------------------"
   ]
  },
  {
   "cell_type": "code",
   "execution_count": null,
   "metadata": {},
   "outputs": [],
   "source": []
  }
 ],
 "metadata": {
  "kernelspec": {
   "display_name": "Python 3",
   "language": "python",
   "name": "python3"
  },
  "language_info": {
   "codemirror_mode": {
    "name": "ipython",
    "version": 3
   },
   "file_extension": ".py",
   "mimetype": "text/x-python",
   "name": "python",
   "nbconvert_exporter": "python",
   "pygments_lexer": "ipython3",
   "version": "3.7.4"
  }
 },
 "nbformat": 4,
 "nbformat_minor": 2
}
