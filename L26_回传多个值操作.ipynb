{
 "cells": [
  {
   "cell_type": "markdown",
   "metadata": {},
   "source": [
    "# 函式-回傳多個值\n",
    "如有必要, 函式可以回傳多個值."
   ]
  },
  {
   "cell_type": "code",
   "execution_count": 1,
   "metadata": {},
   "outputs": [
    {
     "name": "stdout",
     "output_type": "stream",
     "text": [
      "170公分 = 5呎6吋\n"
     ]
    }
   ],
   "source": [
    "#------------------------------------\n",
    "# 將公分轉為呎, 吋\n",
    "# 輸入:公分\n",
    "# 回傳:呎, 吋\n",
    "#------------------------------------\n",
    "def cm_feet_and_inch(cm):\n",
    "    feet, r=divmod(cm, 30.48)\n",
    "    inch=r//2.54\n",
    "    return feet, inch\n",
    "#------------------------------------\n",
    "\n",
    "\n",
    "\n",
    "#------------------------------------\n",
    "# 主程式\n",
    "#------------------------------------\n",
    "f, i = cm_feet_and_inch(170)\n",
    "print('{}公分 = {}呎{}吋'.format(170, int(f), int(i)))\n",
    "#------------------------------------"
   ]
  },
  {
   "cell_type": "code",
   "execution_count": null,
   "metadata": {},
   "outputs": [],
   "source": []
  }
 ],
 "metadata": {
  "kernelspec": {
   "display_name": "Python 3",
   "language": "python",
   "name": "python3"
  },
  "language_info": {
   "codemirror_mode": {
    "name": "ipython",
    "version": 3
   },
   "file_extension": ".py",
   "mimetype": "text/x-python",
   "name": "python",
   "nbconvert_exporter": "python",
   "pygments_lexer": "ipython3",
   "version": "3.7.4"
  }
 },
 "nbformat": 4,
 "nbformat_minor": 2
}
